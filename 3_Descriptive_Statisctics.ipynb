{
  "cells": [
    {
      "cell_type": "markdown",
      "metadata": {
        "id": "dXDus65ZE4N8"
      },
      "source": [
        "## Descriptive statistics\n",
        "\n",
        "Descriptive Statistics, provides a summary of your dataset giving a measure of the centre, dispersion and shape of your data. Here the data is described as a sample of the whole population, and there are no inferences made from the sample to the whole population, unlike Inferential Statistics, in which we model the data on the basis of probability theory.\n",
        "\n",
        "## Key Elements of Descriptive Statistics\n",
        "\n",
        "### Measures Of Central Tendency\n",
        "\n",
        "* Mean\n",
        "* Median\n",
        "* Mode\n",
        "\n",
        "### Measures Of Spread\n",
        "\n",
        "* Range\n",
        "* Outliers\n",
        "* Interquantile Range\n",
        "* Variance\n",
        "\n",
        "### Dependence\n",
        "\n",
        "* Correlation v/s Causation\n",
        "* Covariance\n",
        "\n",
        "<img src=\"Images/statistics.jpeg\" width=\"700\" height=\"400\">"
      ]
    },
    {
      "cell_type": "markdown",
      "metadata": {
        "id": "9ytALfcfE4N_"
      },
      "source": [
        "## Descritive Statistics"
      ]
    },
    {
      "cell_type": "markdown",
      "metadata": {
        "id": "EQOv4kMVE4N_"
      },
      "source": [
        "### Central tendency values\n",
        "The measure of central tendency refers to a single value that summarizes or describes a dataset. It indicates where most of the values within a distribution lie, which is why it is the central location of a distribution. This central tendency measure is a single number representing the entire population distribution. The most critical measures of location or central tendency are mean, median, and mode."
      ]
    },
    {
      "cell_type": "markdown",
      "metadata": {
        "id": "rci0wWbdE4N_"
      },
      "source": [
        "#### Mean\n",
        "Mean is defined by the formula: Summation of all observations in a dataset divided by Total number of observations in that dataset. In mathematics, it is also called Average.\n",
        "$$ Mean = \\frac{Sum~of~all~observations}{No~of~observations}$$"
      ]
    },
    {
      "cell_type": "markdown",
      "metadata": {
        "id": "ObvDcP1VE4OA"
      },
      "source": [
        "##### Disadvantage of Mean\n",
        "\n",
        "* Finding mean is not a good approach as the 'Mean is often affected by Outliers' or in simple words if there are some observations larger or smaller than majority of the other observations then the mean tends to deviate towards these values.\n",
        "\n",
        "* To generalize it if the distribution of datasets is skewed(troubled by outliers), we do not choose mean. Here we will have to go for Median."
      ]
    },
    {
      "cell_type": "code",
      "execution_count": null,
      "metadata": {
        "id": "JiJiyvzOE4OA"
      },
      "outputs": [],
      "source": [
        "# Read and mathematical operations\n",
        "import pandas as pd\n",
        "import numpy as np\n",
        "\n",
        "# Visualization\n",
        "import matplotlib.pyplot as plt\n",
        "import seaborn as sns"
      ]
    },
    {
      "cell_type": "code",
      "execution_count": null,
      "metadata": {
        "id": "U3EokOieE4OB"
      },
      "outputs": [],
      "source": [
        "data = pd.read_csv('/content/insurance.csv')\n"
      ]
    },
    {
      "cell_type": "code",
      "execution_count": null,
      "metadata": {
        "id": "aVSb-aNIE4OC",
        "outputId": "69d5b38b-642f-41bb-8695-a059f5b67df4",
        "colab": {
          "base_uri": "https://localhost:8080/"
        }
      },
      "outputs": [
        {
          "output_type": "execute_result",
          "data": {
            "text/plain": [
              "age           int64\n",
              "sex          object\n",
              "bmi         float64\n",
              "children      int64\n",
              "smoker       object\n",
              "region       object\n",
              "charges     float64\n",
              "dtype: object"
            ]
          },
          "metadata": {},
          "execution_count": 7
        }
      ],
      "source": [
        "# datatypes of columns\n",
        "data.dtypes"
      ]
    },
    {
      "cell_type": "code",
      "execution_count": null,
      "metadata": {
        "id": "mgq0THIFE4OC",
        "outputId": "72f4502a-b6c4-47c5-b2aa-6d43ed07b8e0",
        "colab": {
          "base_uri": "https://localhost:8080/",
          "height": 958
        }
      },
      "outputs": [
        {
          "output_type": "execute_result",
          "data": {
            "text/plain": [
              "      age     sex     bmi  children smoker     region      charges\n",
              "64     20  female  22.420         0    yes  northwest  14711.74380\n",
              "105    20    male  28.025         1    yes  northwest  17560.37975\n",
              "122    20  female  28.975         0     no  northwest   2257.47525\n",
              "134    20  female  28.785         0     no  northeast   2457.21115\n",
              "166    20  female  37.000         5     no  southwest   4830.63000\n",
              "210    20    male  33.000         1     no  southwest   1980.07000\n",
              "261    20  female  26.840         1    yes  southeast  17085.26760\n",
              "374    20    male  33.330         0     no  southeast   1391.52870\n",
              "453    20    male  29.735         0     no  northwest   1769.53165\n",
              "495    20    male  27.930         0     no  northeast   1967.02270\n",
              "516    20    male  35.310         1     no  southeast  27724.28875\n",
              "541    20  female  31.790         2     no  southeast   3056.38810\n",
              "592    20    male  31.130         2     no  southeast   2566.47070\n",
              "614    20  female  33.000         0     no  southeast   1880.07000\n",
              "692    20    male  32.395         1     no  northwest   2362.22905\n",
              "713    20    male  40.470         0     no  northeast   1984.45330\n",
              "815    20  female  31.460         0     no  southeast   1877.92940\n",
              "855    20  female  29.600         0     no  southwest   1875.34400\n",
              "984    20    male  30.115         5     no  northeast   4915.05985\n",
              "1042   20    male  30.685         0    yes  northeast  33475.81715\n",
              "1147   20  female  31.920         0     no  northwest   2261.56880\n",
              "1158   20  female  30.590         0     no  northeast   2459.72010\n",
              "1186   20    male  35.625         3    yes  northwest  37465.34375\n",
              "1223   20  female  24.420         0    yes  southeast  26125.67477\n",
              "1231   20  female  21.800         0    yes  southwest  20167.33603\n",
              "1252   20    male  27.300         0    yes  southwest  16232.84700\n",
              "1268   20  female  33.300         0     no  southwest   1880.48700\n",
              "1288   20    male  39.400         2    yes  southwest  38344.56600\n",
              "1295   20    male  22.000         1     no  southwest   1964.78000"
            ],
            "text/html": [
              "\n",
              "  <div id=\"df-16e10d47-4f37-4bda-bcca-ccb156310613\" class=\"colab-df-container\">\n",
              "    <div>\n",
              "<style scoped>\n",
              "    .dataframe tbody tr th:only-of-type {\n",
              "        vertical-align: middle;\n",
              "    }\n",
              "\n",
              "    .dataframe tbody tr th {\n",
              "        vertical-align: top;\n",
              "    }\n",
              "\n",
              "    .dataframe thead th {\n",
              "        text-align: right;\n",
              "    }\n",
              "</style>\n",
              "<table border=\"1\" class=\"dataframe\">\n",
              "  <thead>\n",
              "    <tr style=\"text-align: right;\">\n",
              "      <th></th>\n",
              "      <th>age</th>\n",
              "      <th>sex</th>\n",
              "      <th>bmi</th>\n",
              "      <th>children</th>\n",
              "      <th>smoker</th>\n",
              "      <th>region</th>\n",
              "      <th>charges</th>\n",
              "    </tr>\n",
              "  </thead>\n",
              "  <tbody>\n",
              "    <tr>\n",
              "      <th>64</th>\n",
              "      <td>20</td>\n",
              "      <td>female</td>\n",
              "      <td>22.420</td>\n",
              "      <td>0</td>\n",
              "      <td>yes</td>\n",
              "      <td>northwest</td>\n",
              "      <td>14711.74380</td>\n",
              "    </tr>\n",
              "    <tr>\n",
              "      <th>105</th>\n",
              "      <td>20</td>\n",
              "      <td>male</td>\n",
              "      <td>28.025</td>\n",
              "      <td>1</td>\n",
              "      <td>yes</td>\n",
              "      <td>northwest</td>\n",
              "      <td>17560.37975</td>\n",
              "    </tr>\n",
              "    <tr>\n",
              "      <th>122</th>\n",
              "      <td>20</td>\n",
              "      <td>female</td>\n",
              "      <td>28.975</td>\n",
              "      <td>0</td>\n",
              "      <td>no</td>\n",
              "      <td>northwest</td>\n",
              "      <td>2257.47525</td>\n",
              "    </tr>\n",
              "    <tr>\n",
              "      <th>134</th>\n",
              "      <td>20</td>\n",
              "      <td>female</td>\n",
              "      <td>28.785</td>\n",
              "      <td>0</td>\n",
              "      <td>no</td>\n",
              "      <td>northeast</td>\n",
              "      <td>2457.21115</td>\n",
              "    </tr>\n",
              "    <tr>\n",
              "      <th>166</th>\n",
              "      <td>20</td>\n",
              "      <td>female</td>\n",
              "      <td>37.000</td>\n",
              "      <td>5</td>\n",
              "      <td>no</td>\n",
              "      <td>southwest</td>\n",
              "      <td>4830.63000</td>\n",
              "    </tr>\n",
              "    <tr>\n",
              "      <th>210</th>\n",
              "      <td>20</td>\n",
              "      <td>male</td>\n",
              "      <td>33.000</td>\n",
              "      <td>1</td>\n",
              "      <td>no</td>\n",
              "      <td>southwest</td>\n",
              "      <td>1980.07000</td>\n",
              "    </tr>\n",
              "    <tr>\n",
              "      <th>261</th>\n",
              "      <td>20</td>\n",
              "      <td>female</td>\n",
              "      <td>26.840</td>\n",
              "      <td>1</td>\n",
              "      <td>yes</td>\n",
              "      <td>southeast</td>\n",
              "      <td>17085.26760</td>\n",
              "    </tr>\n",
              "    <tr>\n",
              "      <th>374</th>\n",
              "      <td>20</td>\n",
              "      <td>male</td>\n",
              "      <td>33.330</td>\n",
              "      <td>0</td>\n",
              "      <td>no</td>\n",
              "      <td>southeast</td>\n",
              "      <td>1391.52870</td>\n",
              "    </tr>\n",
              "    <tr>\n",
              "      <th>453</th>\n",
              "      <td>20</td>\n",
              "      <td>male</td>\n",
              "      <td>29.735</td>\n",
              "      <td>0</td>\n",
              "      <td>no</td>\n",
              "      <td>northwest</td>\n",
              "      <td>1769.53165</td>\n",
              "    </tr>\n",
              "    <tr>\n",
              "      <th>495</th>\n",
              "      <td>20</td>\n",
              "      <td>male</td>\n",
              "      <td>27.930</td>\n",
              "      <td>0</td>\n",
              "      <td>no</td>\n",
              "      <td>northeast</td>\n",
              "      <td>1967.02270</td>\n",
              "    </tr>\n",
              "    <tr>\n",
              "      <th>516</th>\n",
              "      <td>20</td>\n",
              "      <td>male</td>\n",
              "      <td>35.310</td>\n",
              "      <td>1</td>\n",
              "      <td>no</td>\n",
              "      <td>southeast</td>\n",
              "      <td>27724.28875</td>\n",
              "    </tr>\n",
              "    <tr>\n",
              "      <th>541</th>\n",
              "      <td>20</td>\n",
              "      <td>female</td>\n",
              "      <td>31.790</td>\n",
              "      <td>2</td>\n",
              "      <td>no</td>\n",
              "      <td>southeast</td>\n",
              "      <td>3056.38810</td>\n",
              "    </tr>\n",
              "    <tr>\n",
              "      <th>592</th>\n",
              "      <td>20</td>\n",
              "      <td>male</td>\n",
              "      <td>31.130</td>\n",
              "      <td>2</td>\n",
              "      <td>no</td>\n",
              "      <td>southeast</td>\n",
              "      <td>2566.47070</td>\n",
              "    </tr>\n",
              "    <tr>\n",
              "      <th>614</th>\n",
              "      <td>20</td>\n",
              "      <td>female</td>\n",
              "      <td>33.000</td>\n",
              "      <td>0</td>\n",
              "      <td>no</td>\n",
              "      <td>southeast</td>\n",
              "      <td>1880.07000</td>\n",
              "    </tr>\n",
              "    <tr>\n",
              "      <th>692</th>\n",
              "      <td>20</td>\n",
              "      <td>male</td>\n",
              "      <td>32.395</td>\n",
              "      <td>1</td>\n",
              "      <td>no</td>\n",
              "      <td>northwest</td>\n",
              "      <td>2362.22905</td>\n",
              "    </tr>\n",
              "    <tr>\n",
              "      <th>713</th>\n",
              "      <td>20</td>\n",
              "      <td>male</td>\n",
              "      <td>40.470</td>\n",
              "      <td>0</td>\n",
              "      <td>no</td>\n",
              "      <td>northeast</td>\n",
              "      <td>1984.45330</td>\n",
              "    </tr>\n",
              "    <tr>\n",
              "      <th>815</th>\n",
              "      <td>20</td>\n",
              "      <td>female</td>\n",
              "      <td>31.460</td>\n",
              "      <td>0</td>\n",
              "      <td>no</td>\n",
              "      <td>southeast</td>\n",
              "      <td>1877.92940</td>\n",
              "    </tr>\n",
              "    <tr>\n",
              "      <th>855</th>\n",
              "      <td>20</td>\n",
              "      <td>female</td>\n",
              "      <td>29.600</td>\n",
              "      <td>0</td>\n",
              "      <td>no</td>\n",
              "      <td>southwest</td>\n",
              "      <td>1875.34400</td>\n",
              "    </tr>\n",
              "    <tr>\n",
              "      <th>984</th>\n",
              "      <td>20</td>\n",
              "      <td>male</td>\n",
              "      <td>30.115</td>\n",
              "      <td>5</td>\n",
              "      <td>no</td>\n",
              "      <td>northeast</td>\n",
              "      <td>4915.05985</td>\n",
              "    </tr>\n",
              "    <tr>\n",
              "      <th>1042</th>\n",
              "      <td>20</td>\n",
              "      <td>male</td>\n",
              "      <td>30.685</td>\n",
              "      <td>0</td>\n",
              "      <td>yes</td>\n",
              "      <td>northeast</td>\n",
              "      <td>33475.81715</td>\n",
              "    </tr>\n",
              "    <tr>\n",
              "      <th>1147</th>\n",
              "      <td>20</td>\n",
              "      <td>female</td>\n",
              "      <td>31.920</td>\n",
              "      <td>0</td>\n",
              "      <td>no</td>\n",
              "      <td>northwest</td>\n",
              "      <td>2261.56880</td>\n",
              "    </tr>\n",
              "    <tr>\n",
              "      <th>1158</th>\n",
              "      <td>20</td>\n",
              "      <td>female</td>\n",
              "      <td>30.590</td>\n",
              "      <td>0</td>\n",
              "      <td>no</td>\n",
              "      <td>northeast</td>\n",
              "      <td>2459.72010</td>\n",
              "    </tr>\n",
              "    <tr>\n",
              "      <th>1186</th>\n",
              "      <td>20</td>\n",
              "      <td>male</td>\n",
              "      <td>35.625</td>\n",
              "      <td>3</td>\n",
              "      <td>yes</td>\n",
              "      <td>northwest</td>\n",
              "      <td>37465.34375</td>\n",
              "    </tr>\n",
              "    <tr>\n",
              "      <th>1223</th>\n",
              "      <td>20</td>\n",
              "      <td>female</td>\n",
              "      <td>24.420</td>\n",
              "      <td>0</td>\n",
              "      <td>yes</td>\n",
              "      <td>southeast</td>\n",
              "      <td>26125.67477</td>\n",
              "    </tr>\n",
              "    <tr>\n",
              "      <th>1231</th>\n",
              "      <td>20</td>\n",
              "      <td>female</td>\n",
              "      <td>21.800</td>\n",
              "      <td>0</td>\n",
              "      <td>yes</td>\n",
              "      <td>southwest</td>\n",
              "      <td>20167.33603</td>\n",
              "    </tr>\n",
              "    <tr>\n",
              "      <th>1252</th>\n",
              "      <td>20</td>\n",
              "      <td>male</td>\n",
              "      <td>27.300</td>\n",
              "      <td>0</td>\n",
              "      <td>yes</td>\n",
              "      <td>southwest</td>\n",
              "      <td>16232.84700</td>\n",
              "    </tr>\n",
              "    <tr>\n",
              "      <th>1268</th>\n",
              "      <td>20</td>\n",
              "      <td>female</td>\n",
              "      <td>33.300</td>\n",
              "      <td>0</td>\n",
              "      <td>no</td>\n",
              "      <td>southwest</td>\n",
              "      <td>1880.48700</td>\n",
              "    </tr>\n",
              "    <tr>\n",
              "      <th>1288</th>\n",
              "      <td>20</td>\n",
              "      <td>male</td>\n",
              "      <td>39.400</td>\n",
              "      <td>2</td>\n",
              "      <td>yes</td>\n",
              "      <td>southwest</td>\n",
              "      <td>38344.56600</td>\n",
              "    </tr>\n",
              "    <tr>\n",
              "      <th>1295</th>\n",
              "      <td>20</td>\n",
              "      <td>male</td>\n",
              "      <td>22.000</td>\n",
              "      <td>1</td>\n",
              "      <td>no</td>\n",
              "      <td>southwest</td>\n",
              "      <td>1964.78000</td>\n",
              "    </tr>\n",
              "  </tbody>\n",
              "</table>\n",
              "</div>\n",
              "    <div class=\"colab-df-buttons\">\n",
              "\n",
              "  <div class=\"colab-df-container\">\n",
              "    <button class=\"colab-df-convert\" onclick=\"convertToInteractive('df-16e10d47-4f37-4bda-bcca-ccb156310613')\"\n",
              "            title=\"Convert this dataframe to an interactive table.\"\n",
              "            style=\"display:none;\">\n",
              "\n",
              "  <svg xmlns=\"http://www.w3.org/2000/svg\" height=\"24px\" viewBox=\"0 -960 960 960\">\n",
              "    <path d=\"M120-120v-720h720v720H120Zm60-500h600v-160H180v160Zm220 220h160v-160H400v160Zm0 220h160v-160H400v160ZM180-400h160v-160H180v160Zm440 0h160v-160H620v160ZM180-180h160v-160H180v160Zm440 0h160v-160H620v160Z\"/>\n",
              "  </svg>\n",
              "    </button>\n",
              "\n",
              "  <style>\n",
              "    .colab-df-container {\n",
              "      display:flex;\n",
              "      gap: 12px;\n",
              "    }\n",
              "\n",
              "    .colab-df-convert {\n",
              "      background-color: #E8F0FE;\n",
              "      border: none;\n",
              "      border-radius: 50%;\n",
              "      cursor: pointer;\n",
              "      display: none;\n",
              "      fill: #1967D2;\n",
              "      height: 32px;\n",
              "      padding: 0 0 0 0;\n",
              "      width: 32px;\n",
              "    }\n",
              "\n",
              "    .colab-df-convert:hover {\n",
              "      background-color: #E2EBFA;\n",
              "      box-shadow: 0px 1px 2px rgba(60, 64, 67, 0.3), 0px 1px 3px 1px rgba(60, 64, 67, 0.15);\n",
              "      fill: #174EA6;\n",
              "    }\n",
              "\n",
              "    .colab-df-buttons div {\n",
              "      margin-bottom: 4px;\n",
              "    }\n",
              "\n",
              "    [theme=dark] .colab-df-convert {\n",
              "      background-color: #3B4455;\n",
              "      fill: #D2E3FC;\n",
              "    }\n",
              "\n",
              "    [theme=dark] .colab-df-convert:hover {\n",
              "      background-color: #434B5C;\n",
              "      box-shadow: 0px 1px 3px 1px rgba(0, 0, 0, 0.15);\n",
              "      filter: drop-shadow(0px 1px 2px rgba(0, 0, 0, 0.3));\n",
              "      fill: #FFFFFF;\n",
              "    }\n",
              "  </style>\n",
              "\n",
              "    <script>\n",
              "      const buttonEl =\n",
              "        document.querySelector('#df-16e10d47-4f37-4bda-bcca-ccb156310613 button.colab-df-convert');\n",
              "      buttonEl.style.display =\n",
              "        google.colab.kernel.accessAllowed ? 'block' : 'none';\n",
              "\n",
              "      async function convertToInteractive(key) {\n",
              "        const element = document.querySelector('#df-16e10d47-4f37-4bda-bcca-ccb156310613');\n",
              "        const dataTable =\n",
              "          await google.colab.kernel.invokeFunction('convertToInteractive',\n",
              "                                                    [key], {});\n",
              "        if (!dataTable) return;\n",
              "\n",
              "        const docLinkHtml = 'Like what you see? Visit the ' +\n",
              "          '<a target=\"_blank\" href=https://colab.research.google.com/notebooks/data_table.ipynb>data table notebook</a>'\n",
              "          + ' to learn more about interactive tables.';\n",
              "        element.innerHTML = '';\n",
              "        dataTable['output_type'] = 'display_data';\n",
              "        await google.colab.output.renderOutput(dataTable, element);\n",
              "        const docLink = document.createElement('div');\n",
              "        docLink.innerHTML = docLinkHtml;\n",
              "        element.appendChild(docLink);\n",
              "      }\n",
              "    </script>\n",
              "  </div>\n",
              "\n",
              "\n",
              "<div id=\"df-eda3ddd7-87a0-4e5a-99fc-f7608901d5ce\">\n",
              "  <button class=\"colab-df-quickchart\" onclick=\"quickchart('df-eda3ddd7-87a0-4e5a-99fc-f7608901d5ce')\"\n",
              "            title=\"Suggest charts\"\n",
              "            style=\"display:none;\">\n",
              "\n",
              "<svg xmlns=\"http://www.w3.org/2000/svg\" height=\"24px\"viewBox=\"0 0 24 24\"\n",
              "     width=\"24px\">\n",
              "    <g>\n",
              "        <path d=\"M19 3H5c-1.1 0-2 .9-2 2v14c0 1.1.9 2 2 2h14c1.1 0 2-.9 2-2V5c0-1.1-.9-2-2-2zM9 17H7v-7h2v7zm4 0h-2V7h2v10zm4 0h-2v-4h2v4z\"/>\n",
              "    </g>\n",
              "</svg>\n",
              "  </button>\n",
              "\n",
              "<style>\n",
              "  .colab-df-quickchart {\n",
              "      --bg-color: #E8F0FE;\n",
              "      --fill-color: #1967D2;\n",
              "      --hover-bg-color: #E2EBFA;\n",
              "      --hover-fill-color: #174EA6;\n",
              "      --disabled-fill-color: #AAA;\n",
              "      --disabled-bg-color: #DDD;\n",
              "  }\n",
              "\n",
              "  [theme=dark] .colab-df-quickchart {\n",
              "      --bg-color: #3B4455;\n",
              "      --fill-color: #D2E3FC;\n",
              "      --hover-bg-color: #434B5C;\n",
              "      --hover-fill-color: #FFFFFF;\n",
              "      --disabled-bg-color: #3B4455;\n",
              "      --disabled-fill-color: #666;\n",
              "  }\n",
              "\n",
              "  .colab-df-quickchart {\n",
              "    background-color: var(--bg-color);\n",
              "    border: none;\n",
              "    border-radius: 50%;\n",
              "    cursor: pointer;\n",
              "    display: none;\n",
              "    fill: var(--fill-color);\n",
              "    height: 32px;\n",
              "    padding: 0;\n",
              "    width: 32px;\n",
              "  }\n",
              "\n",
              "  .colab-df-quickchart:hover {\n",
              "    background-color: var(--hover-bg-color);\n",
              "    box-shadow: 0 1px 2px rgba(60, 64, 67, 0.3), 0 1px 3px 1px rgba(60, 64, 67, 0.15);\n",
              "    fill: var(--button-hover-fill-color);\n",
              "  }\n",
              "\n",
              "  .colab-df-quickchart-complete:disabled,\n",
              "  .colab-df-quickchart-complete:disabled:hover {\n",
              "    background-color: var(--disabled-bg-color);\n",
              "    fill: var(--disabled-fill-color);\n",
              "    box-shadow: none;\n",
              "  }\n",
              "\n",
              "  .colab-df-spinner {\n",
              "    border: 2px solid var(--fill-color);\n",
              "    border-color: transparent;\n",
              "    border-bottom-color: var(--fill-color);\n",
              "    animation:\n",
              "      spin 1s steps(1) infinite;\n",
              "  }\n",
              "\n",
              "  @keyframes spin {\n",
              "    0% {\n",
              "      border-color: transparent;\n",
              "      border-bottom-color: var(--fill-color);\n",
              "      border-left-color: var(--fill-color);\n",
              "    }\n",
              "    20% {\n",
              "      border-color: transparent;\n",
              "      border-left-color: var(--fill-color);\n",
              "      border-top-color: var(--fill-color);\n",
              "    }\n",
              "    30% {\n",
              "      border-color: transparent;\n",
              "      border-left-color: var(--fill-color);\n",
              "      border-top-color: var(--fill-color);\n",
              "      border-right-color: var(--fill-color);\n",
              "    }\n",
              "    40% {\n",
              "      border-color: transparent;\n",
              "      border-right-color: var(--fill-color);\n",
              "      border-top-color: var(--fill-color);\n",
              "    }\n",
              "    60% {\n",
              "      border-color: transparent;\n",
              "      border-right-color: var(--fill-color);\n",
              "    }\n",
              "    80% {\n",
              "      border-color: transparent;\n",
              "      border-right-color: var(--fill-color);\n",
              "      border-bottom-color: var(--fill-color);\n",
              "    }\n",
              "    90% {\n",
              "      border-color: transparent;\n",
              "      border-bottom-color: var(--fill-color);\n",
              "    }\n",
              "  }\n",
              "</style>\n",
              "\n",
              "  <script>\n",
              "    async function quickchart(key) {\n",
              "      const quickchartButtonEl =\n",
              "        document.querySelector('#' + key + ' button');\n",
              "      quickchartButtonEl.disabled = true;  // To prevent multiple clicks.\n",
              "      quickchartButtonEl.classList.add('colab-df-spinner');\n",
              "      try {\n",
              "        const charts = await google.colab.kernel.invokeFunction(\n",
              "            'suggestCharts', [key], {});\n",
              "      } catch (error) {\n",
              "        console.error('Error during call to suggestCharts:', error);\n",
              "      }\n",
              "      quickchartButtonEl.classList.remove('colab-df-spinner');\n",
              "      quickchartButtonEl.classList.add('colab-df-quickchart-complete');\n",
              "    }\n",
              "    (() => {\n",
              "      let quickchartButtonEl =\n",
              "        document.querySelector('#df-eda3ddd7-87a0-4e5a-99fc-f7608901d5ce button');\n",
              "      quickchartButtonEl.style.display =\n",
              "        google.colab.kernel.accessAllowed ? 'block' : 'none';\n",
              "    })();\n",
              "  </script>\n",
              "</div>\n",
              "\n",
              "    </div>\n",
              "  </div>\n"
            ],
            "application/vnd.google.colaboratory.intrinsic+json": {
              "type": "dataframe",
              "summary": "{\n  \"name\": \"data[data['age'] == 20]\",\n  \"rows\": 29,\n  \"fields\": [\n    {\n      \"column\": \"age\",\n      \"properties\": {\n        \"dtype\": \"number\",\n        \"std\": 0,\n        \"min\": 20,\n        \"max\": 20,\n        \"num_unique_values\": 1,\n        \"samples\": [\n          20\n        ],\n        \"semantic_type\": \"\",\n        \"description\": \"\"\n      }\n    },\n    {\n      \"column\": \"sex\",\n      \"properties\": {\n        \"dtype\": \"category\",\n        \"num_unique_values\": 2,\n        \"samples\": [\n          \"male\"\n        ],\n        \"semantic_type\": \"\",\n        \"description\": \"\"\n      }\n    },\n    {\n      \"column\": \"bmi\",\n      \"properties\": {\n        \"dtype\": \"number\",\n        \"std\": 4.629493875878661,\n        \"min\": 21.8,\n        \"max\": 40.47,\n        \"num_unique_values\": 28,\n        \"samples\": [\n          27.93\n        ],\n        \"semantic_type\": \"\",\n        \"description\": \"\"\n      }\n    },\n    {\n      \"column\": \"children\",\n      \"properties\": {\n        \"dtype\": \"number\",\n        \"std\": 1,\n        \"min\": 0,\n        \"max\": 5,\n        \"num_unique_values\": 5,\n        \"samples\": [\n          1\n        ],\n        \"semantic_type\": \"\",\n        \"description\": \"\"\n      }\n    },\n    {\n      \"column\": \"smoker\",\n      \"properties\": {\n        \"dtype\": \"category\",\n        \"num_unique_values\": 2,\n        \"samples\": [\n          \"no\"\n        ],\n        \"semantic_type\": \"\",\n        \"description\": \"\"\n      }\n    },\n    {\n      \"column\": \"region\",\n      \"properties\": {\n        \"dtype\": \"category\",\n        \"num_unique_values\": 4,\n        \"samples\": [\n          \"northeast\"\n        ],\n        \"semantic_type\": \"\",\n        \"description\": \"\"\n      }\n    },\n    {\n      \"column\": \"charges\",\n      \"properties\": {\n        \"dtype\": \"number\",\n        \"std\": 12049.62479402726,\n        \"min\": 1391.5287,\n        \"max\": 38344.566,\n        \"num_unique_values\": 29,\n        \"samples\": [\n          38344.566\n        ],\n        \"semantic_type\": \"\",\n        \"description\": \"\"\n      }\n    }\n  ]\n}"
            }
          },
          "metadata": {},
          "execution_count": 8
        }
      ],
      "source": [
        "# Filtering observations\n",
        "data[data['smoker'] == 'no']\n",
        "\n",
        "# filter people with age 20\n",
        "data[data['age'] == 20]"
      ]
    },
    {
      "cell_type": "code",
      "execution_count": null,
      "metadata": {
        "id": "ESsY3MzkE4OC",
        "outputId": "4e9af91c-5bcc-4656-8b20-58a9021c2f4b",
        "colab": {
          "base_uri": "https://localhost:8080/",
          "height": 300
        }
      },
      "outputs": [
        {
          "output_type": "execute_result",
          "data": {
            "text/plain": [
              "               age          bmi     children       charges\n",
              "count  1338.000000  1338.000000  1338.000000   1338.000000\n",
              "mean     39.207025    30.663397     1.094918  13270.422265\n",
              "std      14.049960     6.098187     1.205493  12110.011237\n",
              "min      18.000000    15.960000     0.000000   1121.873900\n",
              "25%      27.000000    26.296250     0.000000   4740.287150\n",
              "50%      39.000000    30.400000     1.000000   9382.033000\n",
              "75%      51.000000    34.693750     2.000000  16639.912515\n",
              "max      64.000000    53.130000     5.000000  63770.428010"
            ],
            "text/html": [
              "\n",
              "  <div id=\"df-70a42c6a-3591-4870-98c1-e9fe4664e15c\" class=\"colab-df-container\">\n",
              "    <div>\n",
              "<style scoped>\n",
              "    .dataframe tbody tr th:only-of-type {\n",
              "        vertical-align: middle;\n",
              "    }\n",
              "\n",
              "    .dataframe tbody tr th {\n",
              "        vertical-align: top;\n",
              "    }\n",
              "\n",
              "    .dataframe thead th {\n",
              "        text-align: right;\n",
              "    }\n",
              "</style>\n",
              "<table border=\"1\" class=\"dataframe\">\n",
              "  <thead>\n",
              "    <tr style=\"text-align: right;\">\n",
              "      <th></th>\n",
              "      <th>age</th>\n",
              "      <th>bmi</th>\n",
              "      <th>children</th>\n",
              "      <th>charges</th>\n",
              "    </tr>\n",
              "  </thead>\n",
              "  <tbody>\n",
              "    <tr>\n",
              "      <th>count</th>\n",
              "      <td>1338.000000</td>\n",
              "      <td>1338.000000</td>\n",
              "      <td>1338.000000</td>\n",
              "      <td>1338.000000</td>\n",
              "    </tr>\n",
              "    <tr>\n",
              "      <th>mean</th>\n",
              "      <td>39.207025</td>\n",
              "      <td>30.663397</td>\n",
              "      <td>1.094918</td>\n",
              "      <td>13270.422265</td>\n",
              "    </tr>\n",
              "    <tr>\n",
              "      <th>std</th>\n",
              "      <td>14.049960</td>\n",
              "      <td>6.098187</td>\n",
              "      <td>1.205493</td>\n",
              "      <td>12110.011237</td>\n",
              "    </tr>\n",
              "    <tr>\n",
              "      <th>min</th>\n",
              "      <td>18.000000</td>\n",
              "      <td>15.960000</td>\n",
              "      <td>0.000000</td>\n",
              "      <td>1121.873900</td>\n",
              "    </tr>\n",
              "    <tr>\n",
              "      <th>25%</th>\n",
              "      <td>27.000000</td>\n",
              "      <td>26.296250</td>\n",
              "      <td>0.000000</td>\n",
              "      <td>4740.287150</td>\n",
              "    </tr>\n",
              "    <tr>\n",
              "      <th>50%</th>\n",
              "      <td>39.000000</td>\n",
              "      <td>30.400000</td>\n",
              "      <td>1.000000</td>\n",
              "      <td>9382.033000</td>\n",
              "    </tr>\n",
              "    <tr>\n",
              "      <th>75%</th>\n",
              "      <td>51.000000</td>\n",
              "      <td>34.693750</td>\n",
              "      <td>2.000000</td>\n",
              "      <td>16639.912515</td>\n",
              "    </tr>\n",
              "    <tr>\n",
              "      <th>max</th>\n",
              "      <td>64.000000</td>\n",
              "      <td>53.130000</td>\n",
              "      <td>5.000000</td>\n",
              "      <td>63770.428010</td>\n",
              "    </tr>\n",
              "  </tbody>\n",
              "</table>\n",
              "</div>\n",
              "    <div class=\"colab-df-buttons\">\n",
              "\n",
              "  <div class=\"colab-df-container\">\n",
              "    <button class=\"colab-df-convert\" onclick=\"convertToInteractive('df-70a42c6a-3591-4870-98c1-e9fe4664e15c')\"\n",
              "            title=\"Convert this dataframe to an interactive table.\"\n",
              "            style=\"display:none;\">\n",
              "\n",
              "  <svg xmlns=\"http://www.w3.org/2000/svg\" height=\"24px\" viewBox=\"0 -960 960 960\">\n",
              "    <path d=\"M120-120v-720h720v720H120Zm60-500h600v-160H180v160Zm220 220h160v-160H400v160Zm0 220h160v-160H400v160ZM180-400h160v-160H180v160Zm440 0h160v-160H620v160ZM180-180h160v-160H180v160Zm440 0h160v-160H620v160Z\"/>\n",
              "  </svg>\n",
              "    </button>\n",
              "\n",
              "  <style>\n",
              "    .colab-df-container {\n",
              "      display:flex;\n",
              "      gap: 12px;\n",
              "    }\n",
              "\n",
              "    .colab-df-convert {\n",
              "      background-color: #E8F0FE;\n",
              "      border: none;\n",
              "      border-radius: 50%;\n",
              "      cursor: pointer;\n",
              "      display: none;\n",
              "      fill: #1967D2;\n",
              "      height: 32px;\n",
              "      padding: 0 0 0 0;\n",
              "      width: 32px;\n",
              "    }\n",
              "\n",
              "    .colab-df-convert:hover {\n",
              "      background-color: #E2EBFA;\n",
              "      box-shadow: 0px 1px 2px rgba(60, 64, 67, 0.3), 0px 1px 3px 1px rgba(60, 64, 67, 0.15);\n",
              "      fill: #174EA6;\n",
              "    }\n",
              "\n",
              "    .colab-df-buttons div {\n",
              "      margin-bottom: 4px;\n",
              "    }\n",
              "\n",
              "    [theme=dark] .colab-df-convert {\n",
              "      background-color: #3B4455;\n",
              "      fill: #D2E3FC;\n",
              "    }\n",
              "\n",
              "    [theme=dark] .colab-df-convert:hover {\n",
              "      background-color: #434B5C;\n",
              "      box-shadow: 0px 1px 3px 1px rgba(0, 0, 0, 0.15);\n",
              "      filter: drop-shadow(0px 1px 2px rgba(0, 0, 0, 0.3));\n",
              "      fill: #FFFFFF;\n",
              "    }\n",
              "  </style>\n",
              "\n",
              "    <script>\n",
              "      const buttonEl =\n",
              "        document.querySelector('#df-70a42c6a-3591-4870-98c1-e9fe4664e15c button.colab-df-convert');\n",
              "      buttonEl.style.display =\n",
              "        google.colab.kernel.accessAllowed ? 'block' : 'none';\n",
              "\n",
              "      async function convertToInteractive(key) {\n",
              "        const element = document.querySelector('#df-70a42c6a-3591-4870-98c1-e9fe4664e15c');\n",
              "        const dataTable =\n",
              "          await google.colab.kernel.invokeFunction('convertToInteractive',\n",
              "                                                    [key], {});\n",
              "        if (!dataTable) return;\n",
              "\n",
              "        const docLinkHtml = 'Like what you see? Visit the ' +\n",
              "          '<a target=\"_blank\" href=https://colab.research.google.com/notebooks/data_table.ipynb>data table notebook</a>'\n",
              "          + ' to learn more about interactive tables.';\n",
              "        element.innerHTML = '';\n",
              "        dataTable['output_type'] = 'display_data';\n",
              "        await google.colab.output.renderOutput(dataTable, element);\n",
              "        const docLink = document.createElement('div');\n",
              "        docLink.innerHTML = docLinkHtml;\n",
              "        element.appendChild(docLink);\n",
              "      }\n",
              "    </script>\n",
              "  </div>\n",
              "\n",
              "\n",
              "<div id=\"df-ec90fa7e-1ce7-431d-b4f3-d3ad705b25c5\">\n",
              "  <button class=\"colab-df-quickchart\" onclick=\"quickchart('df-ec90fa7e-1ce7-431d-b4f3-d3ad705b25c5')\"\n",
              "            title=\"Suggest charts\"\n",
              "            style=\"display:none;\">\n",
              "\n",
              "<svg xmlns=\"http://www.w3.org/2000/svg\" height=\"24px\"viewBox=\"0 0 24 24\"\n",
              "     width=\"24px\">\n",
              "    <g>\n",
              "        <path d=\"M19 3H5c-1.1 0-2 .9-2 2v14c0 1.1.9 2 2 2h14c1.1 0 2-.9 2-2V5c0-1.1-.9-2-2-2zM9 17H7v-7h2v7zm4 0h-2V7h2v10zm4 0h-2v-4h2v4z\"/>\n",
              "    </g>\n",
              "</svg>\n",
              "  </button>\n",
              "\n",
              "<style>\n",
              "  .colab-df-quickchart {\n",
              "      --bg-color: #E8F0FE;\n",
              "      --fill-color: #1967D2;\n",
              "      --hover-bg-color: #E2EBFA;\n",
              "      --hover-fill-color: #174EA6;\n",
              "      --disabled-fill-color: #AAA;\n",
              "      --disabled-bg-color: #DDD;\n",
              "  }\n",
              "\n",
              "  [theme=dark] .colab-df-quickchart {\n",
              "      --bg-color: #3B4455;\n",
              "      --fill-color: #D2E3FC;\n",
              "      --hover-bg-color: #434B5C;\n",
              "      --hover-fill-color: #FFFFFF;\n",
              "      --disabled-bg-color: #3B4455;\n",
              "      --disabled-fill-color: #666;\n",
              "  }\n",
              "\n",
              "  .colab-df-quickchart {\n",
              "    background-color: var(--bg-color);\n",
              "    border: none;\n",
              "    border-radius: 50%;\n",
              "    cursor: pointer;\n",
              "    display: none;\n",
              "    fill: var(--fill-color);\n",
              "    height: 32px;\n",
              "    padding: 0;\n",
              "    width: 32px;\n",
              "  }\n",
              "\n",
              "  .colab-df-quickchart:hover {\n",
              "    background-color: var(--hover-bg-color);\n",
              "    box-shadow: 0 1px 2px rgba(60, 64, 67, 0.3), 0 1px 3px 1px rgba(60, 64, 67, 0.15);\n",
              "    fill: var(--button-hover-fill-color);\n",
              "  }\n",
              "\n",
              "  .colab-df-quickchart-complete:disabled,\n",
              "  .colab-df-quickchart-complete:disabled:hover {\n",
              "    background-color: var(--disabled-bg-color);\n",
              "    fill: var(--disabled-fill-color);\n",
              "    box-shadow: none;\n",
              "  }\n",
              "\n",
              "  .colab-df-spinner {\n",
              "    border: 2px solid var(--fill-color);\n",
              "    border-color: transparent;\n",
              "    border-bottom-color: var(--fill-color);\n",
              "    animation:\n",
              "      spin 1s steps(1) infinite;\n",
              "  }\n",
              "\n",
              "  @keyframes spin {\n",
              "    0% {\n",
              "      border-color: transparent;\n",
              "      border-bottom-color: var(--fill-color);\n",
              "      border-left-color: var(--fill-color);\n",
              "    }\n",
              "    20% {\n",
              "      border-color: transparent;\n",
              "      border-left-color: var(--fill-color);\n",
              "      border-top-color: var(--fill-color);\n",
              "    }\n",
              "    30% {\n",
              "      border-color: transparent;\n",
              "      border-left-color: var(--fill-color);\n",
              "      border-top-color: var(--fill-color);\n",
              "      border-right-color: var(--fill-color);\n",
              "    }\n",
              "    40% {\n",
              "      border-color: transparent;\n",
              "      border-right-color: var(--fill-color);\n",
              "      border-top-color: var(--fill-color);\n",
              "    }\n",
              "    60% {\n",
              "      border-color: transparent;\n",
              "      border-right-color: var(--fill-color);\n",
              "    }\n",
              "    80% {\n",
              "      border-color: transparent;\n",
              "      border-right-color: var(--fill-color);\n",
              "      border-bottom-color: var(--fill-color);\n",
              "    }\n",
              "    90% {\n",
              "      border-color: transparent;\n",
              "      border-bottom-color: var(--fill-color);\n",
              "    }\n",
              "  }\n",
              "</style>\n",
              "\n",
              "  <script>\n",
              "    async function quickchart(key) {\n",
              "      const quickchartButtonEl =\n",
              "        document.querySelector('#' + key + ' button');\n",
              "      quickchartButtonEl.disabled = true;  // To prevent multiple clicks.\n",
              "      quickchartButtonEl.classList.add('colab-df-spinner');\n",
              "      try {\n",
              "        const charts = await google.colab.kernel.invokeFunction(\n",
              "            'suggestCharts', [key], {});\n",
              "      } catch (error) {\n",
              "        console.error('Error during call to suggestCharts:', error);\n",
              "      }\n",
              "      quickchartButtonEl.classList.remove('colab-df-spinner');\n",
              "      quickchartButtonEl.classList.add('colab-df-quickchart-complete');\n",
              "    }\n",
              "    (() => {\n",
              "      let quickchartButtonEl =\n",
              "        document.querySelector('#df-ec90fa7e-1ce7-431d-b4f3-d3ad705b25c5 button');\n",
              "      quickchartButtonEl.style.display =\n",
              "        google.colab.kernel.accessAllowed ? 'block' : 'none';\n",
              "    })();\n",
              "  </script>\n",
              "</div>\n",
              "\n",
              "    </div>\n",
              "  </div>\n"
            ],
            "application/vnd.google.colaboratory.intrinsic+json": {
              "type": "dataframe",
              "summary": "{\n  \"name\": \"data\",\n  \"rows\": 8,\n  \"fields\": [\n    {\n      \"column\": \"age\",\n      \"properties\": {\n        \"dtype\": \"number\",\n        \"std\": 460.6106090399993,\n        \"min\": 14.049960379216154,\n        \"max\": 1338.0,\n        \"num_unique_values\": 8,\n        \"samples\": [\n          39.20702541106129,\n          39.0,\n          1338.0\n        ],\n        \"semantic_type\": \"\",\n        \"description\": \"\"\n      }\n    },\n    {\n      \"column\": \"bmi\",\n      \"properties\": {\n        \"dtype\": \"number\",\n        \"std\": 463.29524977918294,\n        \"min\": 6.098186911679014,\n        \"max\": 1338.0,\n        \"num_unique_values\": 8,\n        \"samples\": [\n          30.66339686098655,\n          30.4,\n          1338.0\n        ],\n        \"semantic_type\": \"\",\n        \"description\": \"\"\n      }\n    },\n    {\n      \"column\": \"children\",\n      \"properties\": {\n        \"dtype\": \"number\",\n        \"std\": 472.5368318870757,\n        \"min\": 0.0,\n        \"max\": 1338.0,\n        \"num_unique_values\": 7,\n        \"samples\": [\n          1338.0,\n          1.0949177877429,\n          2.0\n        ],\n        \"semantic_type\": \"\",\n        \"description\": \"\"\n      }\n    },\n    {\n      \"column\": \"charges\",\n      \"properties\": {\n        \"dtype\": \"number\",\n        \"std\": 20381.922846226596,\n        \"min\": 1121.8739,\n        \"max\": 63770.42801,\n        \"num_unique_values\": 8,\n        \"samples\": [\n          13270.422265141257,\n          9382.033,\n          1338.0\n        ],\n        \"semantic_type\": \"\",\n        \"description\": \"\"\n      }\n    }\n  ]\n}"
            }
          },
          "metadata": {},
          "execution_count": 11
        }
      ],
      "source": [
        "data.describe()"
      ]
    },
    {
      "cell_type": "code",
      "execution_count": null,
      "metadata": {
        "id": "TWmWwzpWE4OC",
        "outputId": "1bec1823-e6d3-4b41-d047-83c7788e52bb",
        "colab": {
          "base_uri": "https://localhost:8080/"
        }
      },
      "outputs": [
        {
          "output_type": "execute_result",
          "data": {
            "text/plain": [
              "18.0"
            ]
          },
          "metadata": {},
          "execution_count": 12
        }
      ],
      "source": [
        "l = [1,2,3,4,5,9,81,2,6,3,99,1]\n",
        "n = np.array(l)\n",
        "\n",
        "# Computing Mean\n",
        "np.mean(n)\n",
        "n.mean()\n",
        "\n",
        "sum(l)/len(l)"
      ]
    },
    {
      "cell_type": "code",
      "source": [
        "n.mean()"
      ],
      "metadata": {
        "colab": {
          "base_uri": "https://localhost:8080/"
        },
        "id": "c_4g6RX1oQLk",
        "outputId": "97509f0c-8d99-45e0-9ef2-31964ec56430"
      },
      "execution_count": null,
      "outputs": [
        {
          "output_type": "execute_result",
          "data": {
            "text/plain": [
              "18.0"
            ]
          },
          "metadata": {},
          "execution_count": 13
        }
      ]
    },
    {
      "cell_type": "code",
      "source": [
        "sum(l)/len(l)"
      ],
      "metadata": {
        "colab": {
          "base_uri": "https://localhost:8080/"
        },
        "id": "VVvGz0isoS7R",
        "outputId": "6375bb02-7eb9-46b5-87cd-b5baba8afc40"
      },
      "execution_count": null,
      "outputs": [
        {
          "output_type": "execute_result",
          "data": {
            "text/plain": [
              "18.0"
            ]
          },
          "metadata": {},
          "execution_count": 14
        }
      ]
    },
    {
      "cell_type": "markdown",
      "source": [
        "Weighted mean\n",
        "The weighted mean is a type of average where each data point is multiplied by a weight representing its importance. It's useful when different data points have varying significance."
      ],
      "metadata": {
        "id": "AnnJOZ3uFJWS"
      }
    },
    {
      "cell_type": "code",
      "execution_count": null,
      "metadata": {
        "colab": {
          "base_uri": "https://localhost:8080/"
        },
        "id": "98_YPpzzE4OD",
        "outputId": "4a4a1bd0-06f5-4534-c5bf-ce88b45214c8"
      },
      "outputs": [
        {
          "output_type": "stream",
          "name": "stdout",
          "text": [
            "Weighted Mean: 13.142857142857142\n"
          ]
        }
      ],
      "source": [
        "# Exercise\n",
        "\n",
        "# Explore what weighted mean is and compute it for the following\n",
        "\n",
        "weights = [0.4, 0.6, 0.9, 0.2]\n",
        "value = [8, 9, 12, 41]\n",
        "\n",
        "# compute weighted mean\n",
        "\n",
        "# Create a DataFrame\n",
        "data = {\n",
        "    'value': value,\n",
        "    'weight': weights\n",
        "}\n",
        "df = pd.DataFrame(data)\n",
        "\n",
        "# Compute the weighted mean\n",
        "weighted_mean = (df['value'] * df['weight']).sum() / df['weight'].sum()\n",
        "\n",
        "print(\"Weighted Mean:\", weighted_mean)\n",
        "\n"
      ]
    },
    {
      "cell_type": "code",
      "execution_count": null,
      "metadata": {
        "id": "DMpSiif8E4OD"
      },
      "outputs": [],
      "source": [
        "# Compute average age, BMI, and charges\n",
        "# Assuming your data is loaded from a CSV file named 'insurance.csv'\n",
        "data = pd.read_csv('/content/insurance.csv')\n",
        "\n",
        "# Calculate averages\n",
        "average_age = data['age'].mean()\n",
        "average_bmi = data['bmi'].mean()\n",
        "average_charges = data['charges'].mean()"
      ]
    },
    {
      "cell_type": "code",
      "source": [
        "average_age"
      ],
      "metadata": {
        "colab": {
          "base_uri": "https://localhost:8080/"
        },
        "id": "9l-jjgVDysQf",
        "outputId": "780a7288-e755-4aac-9b7b-1735bea1ca82"
      },
      "execution_count": null,
      "outputs": [
        {
          "output_type": "execute_result",
          "data": {
            "text/plain": [
              "39.20702541106129"
            ]
          },
          "metadata": {},
          "execution_count": 34
        }
      ]
    },
    {
      "cell_type": "code",
      "source": [
        "average_bmi"
      ],
      "metadata": {
        "colab": {
          "base_uri": "https://localhost:8080/"
        },
        "id": "kqfQ9gmSy4s4",
        "outputId": "7c6f1c08-e5e9-4262-c18c-9adb9d5f0443"
      },
      "execution_count": null,
      "outputs": [
        {
          "output_type": "execute_result",
          "data": {
            "text/plain": [
              "30.66339686098655"
            ]
          },
          "metadata": {},
          "execution_count": 36
        }
      ]
    },
    {
      "cell_type": "code",
      "source": [
        "average_charges"
      ],
      "metadata": {
        "colab": {
          "base_uri": "https://localhost:8080/"
        },
        "id": "kCJe4u7DzAdJ",
        "outputId": "fdbc57c2-9fb1-4b16-8feb-127a2d3ec42a"
      },
      "execution_count": null,
      "outputs": [
        {
          "output_type": "execute_result",
          "data": {
            "text/plain": [
              "13270.422265141257"
            ]
          },
          "metadata": {},
          "execution_count": 41
        }
      ]
    },
    {
      "cell_type": "code",
      "source": [
        "np.mean(data['bmi'])"
      ],
      "metadata": {
        "colab": {
          "base_uri": "https://localhost:8080/"
        },
        "id": "qwSZeKQG0Rr-",
        "outputId": "a4af91a4-b137-4754-e919-e2eae0cd2ae8"
      },
      "execution_count": null,
      "outputs": [
        {
          "output_type": "execute_result",
          "data": {
            "text/plain": [
              "30.66339686098655"
            ]
          },
          "metadata": {},
          "execution_count": 42
        }
      ]
    },
    {
      "cell_type": "markdown",
      "metadata": {
        "id": "kA1CXZE2E4OD"
      },
      "source": [
        "#### Median\n",
        "The median is the middle value present within data when the data is arranged in ascending/descending order\n"
      ]
    },
    {
      "cell_type": "code",
      "execution_count": null,
      "metadata": {
        "id": "9wJnqFKbE4OD",
        "outputId": "17b6857f-6398-4062-b194-550775139f21",
        "colab": {
          "base_uri": "https://localhost:8080/"
        }
      },
      "outputs": [
        {
          "output_type": "execute_result",
          "data": {
            "text/plain": [
              "30.4"
            ]
          },
          "metadata": {},
          "execution_count": 14
        }
      ],
      "source": [
        "np.median(data['bmi'])\n",
        "\n",
        "data['bmi'].median()"
      ]
    },
    {
      "cell_type": "markdown",
      "source": [
        "Comparison:\n",
        "By printing both median and mean values, you can compare how they differ. The median is generally less affected by outliers compared to the mean, which can be heavily influenced by extreme values in the dataset. This comparison helps in understanding the central tendency and distribution of your data across these metrics."
      ],
      "metadata": {
        "id": "NI5hEbHEXIqw"
      }
    },
    {
      "cell_type": "code",
      "execution_count": null,
      "metadata": {
        "id": "wOzwkV59E4OD",
        "colab": {
          "base_uri": "https://localhost:8080/"
        },
        "outputId": "5094db33-499e-4bab-a6c2-8842e2cf64b3"
      },
      "outputs": [
        {
          "output_type": "stream",
          "name": "stdout",
          "text": [
            "Median Age: 39.0, Mean Age: 39.20702541106129\n",
            "Median BMI: 30.4, Mean BMI: 30.66339686098655\n"
          ]
        }
      ],
      "source": [
        "# Compute median of age, BMI, and charges and compare them with mean values.\n",
        "median_age = data['age'].median()\n",
        "median_bmi = data['bmi'].median()\n",
        "median_charges = data['charges'].median()\n",
        "\n",
        "average_age = data['age'].mean()\n",
        "average_bmi = data['bmi'].mean()\n",
        "average_charges = data['charges'].mean()\n",
        "\n",
        "# Print the results\n",
        "print(f\"Median Age: {median_age}, Mean Age: {average_age}\")\n",
        "print(f\"Median BMI: {median_bmi}, Mean BMI: {average_bmi}\")"
      ]
    },
    {
      "cell_type": "code",
      "source": [
        "median_age,average_age"
      ],
      "metadata": {
        "colab": {
          "base_uri": "https://localhost:8080/"
        },
        "id": "1Ug3B7_p0uic",
        "outputId": "89b83eed-618d-4577-d1fb-5b5d11911283"
      },
      "execution_count": null,
      "outputs": [
        {
          "output_type": "execute_result",
          "data": {
            "text/plain": [
              "(39.0, 39.20702541106129)"
            ]
          },
          "metadata": {},
          "execution_count": 43
        }
      ]
    },
    {
      "cell_type": "markdown",
      "metadata": {
        "id": "LDsXcDGpE4OD"
      },
      "source": [
        "![unnamed.png](data:image/png;base64,iVBORw0KGgoAAAANSUhEUgAAACAAAAAgCAIAAAD8GO2jAAAAA3NCSVQICAjb4U/gAAAABmJLR0QAeACQAJw0S3fuAAABXklEQVRIiWOsmDCHgZaAiaamj1owasGoBYPRAjV5GTV5GZK0sBCpzsvWzFhLjYuDnYGB4fvPn2ev3d566CQxGonygZ6akpWB9u8/f/aePL//9IU/f/5a6WubaKkRo5coHyhIiTMzMd159GzPiXMMDAw/fv4y1lIT5OMhRi+zjYcfQUVsrKyaSnJC/LziwgJMjIynr946cen6vSfPqWbBq3cffv3+LSoooCQjpa+uZKajwc/LffvhU6pZwMDA8PjF6xOXrt+4/+jv339iQgIq8tIszMx3Hz8jqJGoOIjzdZUWF1m96+CdR8+eHTz+5sNHPwdLaXERYvQSZcH7T581leR87S3PXb/99+8/Aw0VBgaGl2/fU82CzQdPcHKwaysreFibMjAw/P7z98qdB0TmA2Iz2qqdBxkYDuqpKbEwM9988Pjr9x9EaiTWAgi4dOseSeoZBl1hN2rBqAXD0wIAkp10BW/amiwAAAAASUVORK5CYII=)#### Median and Inter Quartile Range (IQR)\n",
        "The dataset can be divided into four parts in quartiles, each containing approximately 25% or 1/4th of the observations. These division points are referred to as Quartiles and are defined as:\n",
        "\n",
        "* **Q1**: first quartile or 25th percentile. It comprises the lowest 25% of the observations.\n",
        "* **Q2**: second quartile or 50th percentile. It is also known as the median, containing 0% to 50% of the observations.\n",
        "* **Q3**: third quartile or 75th percentile. It consists of 0% to 75% of the observations.\n",
        "* **Q4**: fourth quartile or 25th percentile. It has the highest 25% of the observations.\n",
        "\n",
        "<img src=\"Images/Quartiles.png\" width=\"500\" height=\"250\">"
      ]
    },
    {
      "cell_type": "markdown",
      "metadata": {
        "id": "rCyCnQfXE4OD"
      },
      "source": [
        "#### Five-point Summary\n",
        "\n",
        "Five-point summary is a measure that summarizes the center, location, and shape of the data. The five-point summary is:\n",
        "\n",
        "1. Minimum value (the smallest observation in the data)\n",
        "2. First Quartile (Q1)\n",
        "3. Second Quartile (Median or Q2)\n",
        "4. Third Quartile (Q3)\n",
        "5. Maximum value (the largest observation in the data)"
      ]
    },
    {
      "cell_type": "markdown",
      "source": [
        "To create a five-point summary for 'age', 'BMI', and 'charges' and print them using Python, you can utilize the describe() function from pandas, which provides statistics such as minimum, 25th percentile (Q1), median (50th percentile or Q2), 75th percentile (Q3), and maximum."
      ],
      "metadata": {
        "id": "xIMS9IVilvtI"
      }
    },
    {
      "cell_type": "code",
      "execution_count": null,
      "metadata": {
        "id": "QjxG9YVzE4OD",
        "colab": {
          "base_uri": "https://localhost:8080/"
        },
        "outputId": "90a71c9f-b2f3-4f4d-eda5-ab66eff28da9"
      },
      "outputs": [
        {
          "output_type": "stream",
          "name": "stdout",
          "text": [
            "Five-Number Summary:\n",
            "               age          bmi       charges\n",
            "count  1338.000000  1338.000000   1338.000000\n",
            "mean     39.207025    30.663397  13270.422265\n",
            "std      14.049960     6.098187  12110.011237\n",
            "min      18.000000    15.960000   1121.873900\n",
            "25%      27.000000    26.296250   4740.287150\n",
            "50%      39.000000    30.400000   9382.033000\n",
            "75%      51.000000    34.693750  16639.912515\n",
            "max      64.000000    53.130000  63770.428010\n",
            "\n",
            "Q1 (25th percentile):\n",
            "age          27.00000\n",
            "bmi          26.29625\n",
            "charges    4740.28715\n",
            "Name: 25%, dtype: float64\n",
            "\n",
            "Q2 (Median, 50th percentile):\n",
            "age          39.000\n",
            "bmi          30.400\n",
            "charges    9382.033\n",
            "Name: 50%, dtype: float64\n",
            "\n",
            "Q3 (75th percentile):\n",
            "age           51.000000\n",
            "bmi           34.693750\n",
            "charges    16639.912515\n",
            "Name: 75%, dtype: float64\n"
          ]
        }
      ],
      "source": [
        "# Create a five point summary for age, BMI, and charges and print them.\n",
        "\n",
        "import pandas as pd\n",
        "\n",
        "# Load the data (assuming it's loaded from a CSV file named 'insurance.csv')\n",
        "data = pd.read_csv('/content/insurance.csv')\n",
        "\n",
        "# Calculate five-number summary for 'age', 'bmi', and 'charges'\n",
        "five_point_summary = data[['age', 'bmi', 'charges']].describe(percentiles=[0.25, 0.5, 0.75])\n",
        "\n",
        "# Extract Q1, Q2 (median), and Q3\n",
        "Q1 = five_point_summary.loc['25%']\n",
        "Q2 = five_point_summary.loc['50%']\n",
        "Q3 = five_point_summary.loc['75%']\n",
        "\n",
        "# Print the five-number summary\n",
        "print(\"Five-Number Summary:\")\n",
        "print(five_point_summary)\n",
        "\n",
        "# Print Q1, Q2, and Q3\n",
        "print(\"\\nQ1 (25th percentile):\")\n",
        "print(Q1)\n",
        "print(\"\\nQ2 (Median, 50th percentile):\")\n",
        "print(Q2)\n",
        "print(\"\\nQ3 (75th percentile):\")\n",
        "print(Q3)\n",
        "\n",
        "\n"
      ]
    },
    {
      "cell_type": "markdown",
      "metadata": {
        "id": "pZmpilv5E4OD"
      },
      "source": [
        "#### Outliers and Box Plots\n",
        "An outlier is an observation that lies an abnormal distance from other values in a random sample from a population. A box plot is constructed by drawing a box between the upper and lower quartiles with a solid line drawn across the box to locate the median. The following quantities (called fences) are needed for identifying extreme values in the tails of the distribution:\n",
        "* lower inner fence: Q1 - 1.5*IQ\n",
        "* upper inner fence: Q3 + 1.5*IQ\n",
        "* lower outer fence: Q1 - 3*IQ\n",
        "* upper outer fence: Q3 + 3*IQ\n",
        "\n",
        "Points outside these fences can be considered as outliers."
      ]
    },
    {
      "cell_type": "code",
      "source": [
        "# Define these fences for age, BMI, and Charges.\n",
        "\n",
        "# Sample data (replace with your actual DataFrame)\n",
        "data = {\n",
        "    'Age': [22, 25, 28, 30, 35, 40, 45, 50, 55, 60, 65, 70],\n",
        "    'BMI': [18.5, 20.0, 22.5, 24.0, 25.5, 27.0, 28.5, 30.0, 32.5, 35.0, 37.5, 40.0],\n",
        "    'Charges': [1500, 2000, 2500, 3000, 3500, 4000, 4500, 5000, 5500, 6000, 6500, 7000]\n",
        "}\n",
        "\n",
        "df = pd.DataFrame(data)\n",
        "\n",
        "# Function to calculate fences and identify outliers\n",
        "def calculate_fences(df):\n",
        "    numerical_cols = df.select_dtypes(include=[np.number])\n",
        "    fences = {}\n",
        "\n",
        "    for col in numerical_cols.columns:\n",
        "        Q1 = df[col].quantile(0.25)\n",
        "        Q3 = df[col].quantile(0.75)\n",
        "        IQR = Q3 - Q1\n",
        "        lower_fence = Q1 - 1.5 * IQR\n",
        "        upper_fence = Q3 + 1.5 * IQR\n",
        "\n",
        "        fences[col] = {\n",
        "            'Q1': Q1,\n",
        "            'Q3': Q3,\n",
        "            'IQR': IQR,\n",
        "            'Lower Fence': lower_fence,\n",
        "            'Upper Fence': upper_fence\n",
        "        }\n",
        "\n",
        "    return fences\n",
        "\n",
        "# Calculate fences\n",
        "fences = calculate_fences(df)\n",
        "\n",
        "# Print fences information\n",
        "for col, info in fences.items():\n",
        "    print(f\"{col} Fences:\")\n",
        "    print(f\"  Q1: {info['Q1']}\")\n",
        "    print(f\"  Q3: {info['Q3']}\")\n",
        "    print(f\"  IQR: {info['IQR']}\")\n",
        "    print(f\"  Lower Fence: {info['Lower Fence']}\")\n",
        "    print(f\"  Upper Fence: {info['Upper Fence']}\\n\")\n",
        "\n",
        "# Plotting box plots with outliers\n",
        "plt.figure(figsize=(15, 5))\n",
        "\n",
        "for i, col in enumerate(df.columns, 1):\n",
        "    plt.subplot(1, len(df.columns), i)\n",
        "    sns.boxplot(y=df[col])\n",
        "    plt.title(col)\n",
        "    plt.axhline(y=fences[col]['Lower Fence'], color='r', linestyle='--')\n",
        "    plt.axhline(y=fences[col]['Upper Fence'], color='r', linestyle='--')\n",
        "\n",
        "plt.tight_layout()\n",
        "plt.show()\n"
      ],
      "metadata": {
        "colab": {
          "base_uri": "https://localhost:8080/",
          "height": 764
        },
        "id": "zwHEROonvVFA",
        "outputId": "546152cf-a969-4815-ea31-e93eacfba28a"
      },
      "execution_count": null,
      "outputs": [
        {
          "output_type": "stream",
          "name": "stdout",
          "text": [
            "Age Fences:\n",
            "  Q1: 29.5\n",
            "  Q3: 56.25\n",
            "  IQR: 26.75\n",
            "  Lower Fence: -10.625\n",
            "  Upper Fence: 96.375\n",
            "\n",
            "BMI Fences:\n",
            "  Q1: 23.625\n",
            "  Q3: 33.125\n",
            "  IQR: 9.5\n",
            "  Lower Fence: 9.375\n",
            "  Upper Fence: 47.375\n",
            "\n",
            "Charges Fences:\n",
            "  Q1: 2875.0\n",
            "  Q3: 5625.0\n",
            "  IQR: 2750.0\n",
            "  Lower Fence: -1250.0\n",
            "  Upper Fence: 9750.0\n",
            "\n"
          ]
        },
        {
          "output_type": "display_data",
          "data": {
            "text/plain": [
              "<Figure size 1500x500 with 3 Axes>"
            ],
            "image/png": "[encoded data removed]"
          },
          "metadata": {}
        }
      ]
    },
    {
      "cell_type": "markdown",
      "metadata": {
        "id": "zhNuZxsVE4OE"
      },
      "source": [
        "#### Mode\n",
        "The Mode occurs most often, i.e., the value with the maximum frequency of occurrence."
      ]
    },
    {
      "cell_type": "code",
      "source": [
        "import pandas as pd\n",
        "\n",
        "# Load the data (assuming it's loaded from a CSV file named 'insurance.csv')\n",
        "data = pd.read_csv('/content/insurance.csv')\n",
        "\n",
        "# Calculate the mode for 'age', 'bmi', and 'charges'\n",
        "mode_age = data['age'].mode()[0]\n",
        "mode_bmi = data['bmi'].mode()[0]\n",
        "mode_charges = data['charges'].mode()[0]\n",
        "\n",
        "# Print the mode for each column\n",
        "print(\"Mode:\")\n",
        "print(f\"Age: {mode_age}\")\n",
        "print(f\"BMI: {mode_bmi}\")\n",
        "print(f\"Charges: {mode_charges}\")\n"
      ],
      "metadata": {
        "colab": {
          "base_uri": "https://localhost:8080/"
        },
        "id": "oa_ifeS4wXMy",
        "outputId": "642e7af7-cc88-498f-ba4d-9aaaf690384e"
      },
      "execution_count": null,
      "outputs": [
        {
          "output_type": "stream",
          "name": "stdout",
          "text": [
            "Mode:\n",
            "Age: 18\n",
            "BMI: 32.3\n",
            "Charges: 1639.5631\n"
          ]
        }
      ]
    },
    {
      "cell_type": "code",
      "source": [
        "import pandas as pd\n",
        "import numpy as np\n",
        "\n",
        "# Load the data (assuming it's loaded from a CSV file named 'insurance.csv')\n",
        "data = pd.read_csv('/content/insurance.csv')\n",
        "\n",
        "# Custom function to compute mode\n",
        "def custom_mode(arr):\n",
        "    values, counts = np.unique(arr, return_counts=True)\n",
        "    max_count_index = np.argmax(counts)\n",
        "    return values[max_count_index]\n",
        "\n",
        "# Calculate the mode for 'age', 'bmi', and 'charges' using the custom function\n",
        "mode_age = custom_mode(data['age'])\n",
        "mode_bmi = custom_mode(data['bmi'])\n",
        "mode_charges = custom_mode(data['charges'])\n",
        "\n",
        "# Print the mode for each column\n",
        "print(\"Mode:\")\n",
        "print(f\"Age: {mode_age}\")\n",
        "print(f\"BMI: {mode_bmi}\")\n",
        "print(f\"Charges: {mode_charges}\")\n"
      ],
      "metadata": {
        "colab": {
          "base_uri": "https://localhost:8080/"
        },
        "id": "DPoEiU50wW3N",
        "outputId": "0f9e1856-37e7-406c-893c-bfa72db911a8"
      },
      "execution_count": null,
      "outputs": [
        {
          "output_type": "stream",
          "name": "stdout",
          "text": [
            "Mode:\n",
            "Age: 18\n",
            "BMI: 32.3\n",
            "Charges: 1639.5631\n"
          ]
        }
      ]
    },
    {
      "cell_type": "code",
      "source": [
        "# Numpy doesn't have a predefined function for Mode.\n",
        "# Please create a custome function to compute mode.\n",
        "import numpy as np\n",
        "from scipy.stats import mode as scipy_mode\n",
        "\n",
        "data = 'data/insurance.csv'\n",
        "data = pd.read_csv('insurance.csv')\n",
        "\n",
        "def mode(numpy_array):\n",
        "    values, counts = np.unique(numpy_array, return_counts=True)\n",
        "    max_count_index = np.argmax(counts)\n",
        "    return values[max_count_index]\n",
        "\n",
        "mode(data['age'])\n",
        "\n",
        "# scipy library has a predefined function for mode.\n",
        "# Search internet, import the specific function from scipy library and compute mode.\n",
        "\n",
        "\n",
        "# Compute mode values using custom function\n",
        "mode_age_custom = mode(data['age'].to_numpy())\n",
        "mode_bmi_custom = mode(data['bmi'].to_numpy())\n",
        "mode_charges_custom = mode(data['charges'].to_numpy())\n",
        "\n",
        "# Compute mode values using scipy\n",
        "mode_age_scipy = scipy_mode(data['age']).mode\n",
        "mode_bmi_scipy = scipy_mode(data['bmi']).mode\n",
        "mode_charges_scipy = scipy_mode(data['charges']).mode\n",
        "\n",
        "# Display the results\n",
        "print(\"Custom Function Mode Values:\")\n",
        "print(f\"Age: {mode_age_custom}, BMI: {mode_bmi_custom}, Charges: {mode_charges_custom}\")\n",
        "\n",
        "print(\"\\nSciPy Mode Values:\")\n",
        "print(f\"Age: {mode_age_scipy}, BMI: {mode_bmi_scipy}, Charges: {mode_charges_scipy}\")"
      ],
      "metadata": {
        "colab": {
          "base_uri": "https://localhost:8080/"
        },
        "id": "N7BkyujcnTGb",
        "outputId": "1a68f49f-26e9-4e09-d322-ba575576c377"
      },
      "execution_count": 20,
      "outputs": [
        {
          "output_type": "stream",
          "name": "stdout",
          "text": [
            "Custom Function Mode Values:\n",
            "Age: 18, BMI: 32.3, Charges: 1639.5631\n",
            "\n",
            "SciPy Mode Values:\n",
            "Age: 18, BMI: 32.3, Charges: 1639.5631\n"
          ]
        }
      ]
    },
    {
      "cell_type": "markdown",
      "metadata": {
        "id": "-CngLhR7E4OE"
      },
      "source": [
        "Median and Mode are not affected by extreme values (i.e., by outliers), whereas Mean is affected by outliers."
      ]
    },
    {
      "cell_type": "markdown",
      "metadata": {
        "id": "J0x82OaME4OF"
      },
      "source": [
        "#### Range\n",
        "It is the simplest measure of variability. Range is computed by taking the difference between the largest (maximum) value and the smallest (minimum) value."
      ]
    },
    {
      "cell_type": "code",
      "execution_count": null,
      "metadata": {
        "id": "UEEz22TKE4OF",
        "colab": {
          "base_uri": "https://localhost:8080/"
        },
        "outputId": "a032140d-0f27-43ff-a3b9-61576702bcfe"
      },
      "outputs": [
        {
          "output_type": "stream",
          "name": "stdout",
          "text": [
            "Range for Age: 46\n",
            "Range for BMI: 37.17\n",
            "Range for Charges: 62648.554110000005\n"
          ]
        }
      ],
      "source": [
        "## Compute range of age, BMI, and Charges\n",
        "\n",
        "range_age = data['age'].max() - data['age'].min()\n",
        "range_bmi = data['bmi'].max() - data['bmi'].min()\n",
        "range_charges = data['charges'].max() - data['charges'].min()\n",
        "\n",
        "# Print the results\n",
        "print(\"Range for Age:\", range_age)\n",
        "print(\"Range for BMI:\", range_bmi)\n",
        "print(\"Range for Charges:\", range_charges)\n"
      ]
    },
    {
      "cell_type": "markdown",
      "metadata": {
        "id": "x0apGuXfE4OF"
      },
      "source": [
        "#### Variance\n",
        "Variance is the average square deviation from each observation to the mean. It takes in all the values of the data. Variance of data is calculated by dividing the sum of the squares of each data point’s differences from the data’s average by the total number of values in the data. <br><br>\n",
        "\n",
        "A low variance implies that the values in the data are closer to the mean, and a higher variance indicates that the data is spread out from the mean.\n",
        "\n",
        "#### Standard deviation\n",
        "It is the positive square root of the variance. Standard deviation is denoted by sigma (σ)."
      ]
    },
    {
      "cell_type": "code",
      "execution_count": null,
      "metadata": {
        "id": "6B8WY4JZE4OG",
        "colab": {
          "base_uri": "https://localhost:8080/"
        },
        "outputId": "ff4f4496-9a02-4dbd-bfb8-5fdbe558ac81"
      },
      "outputs": [
        {
          "output_type": "stream",
          "name": "stdout",
          "text": [
            "Standard Deviation for Age: 14.049960379216154\n",
            "Standard Deviation for BMI: 6.098186911679014\n",
            "Standard Deviation for Charges: 12110.011236694001\n"
          ]
        }
      ],
      "source": [
        "# Compute Standard deviation for age, BMI, and charges.\n",
        "\n",
        "std_age = data['age'].std()\n",
        "std_bmi = data['bmi'].std()\n",
        "std_charges = data['charges'].std()\n",
        "\n",
        "# Print the results\n",
        "print(\"Standard Deviation for Age:\", std_age)\n",
        "print(\"Standard Deviation for BMI:\", std_bmi)\n",
        "print(\"Standard Deviation for Charges:\", std_charges)\n"
      ]
    },
    {
      "cell_type": "markdown",
      "source": [
        "In analyzing the dataset on insurance charges, several key statistical measures were computed for 'age', 'BMI', and 'charges'. The standard deviation for 'age' was found to be approximately 14.05 years, indicating a moderate spread around the mean age. For 'BMI', the standard deviation was around 6.10 units, reflecting variability in body mass index within the dataset. The charges exhibited a significantly higher standard deviation of approximately 12110.01 USD, underscoring wide variations in healthcare costs among individuals.\n",
        "\n",
        "Furthermore, the range of values provided additional insights into the dataset. The age range spanned from 18 to 64 years, showing the diversity in age groups among insured individuals. BMI ranged from approximately 15.96 to 53.13, illustrating the spectrum of body mass indices recorded. Charges, ranging from approximately 1121.87 to 63770.43 USD, highlighted the extensive disparity in healthcare expenses covered by insurance.\n",
        "\n",
        "Utilizing the scipy.stats library, modes were determined for each variable. The mode for age was 18 years, reflecting the most frequently occurring age in the dataset. For BMI, the mode was 32.3, indicating a prevalent body mass index category among insured individuals. In terms of charges, the mode was 1639.56 USD, representing the most common healthcare cost incurred.\n",
        "\n",
        "Lastly, fences computed for 'age', 'BMI', and 'charges' using quartiles and interquartile ranges (IQR) identified potential outliers in the dataset. Inner fences suggested conservative boundaries for mild outliers, while outer fences provided stricter limits for extreme outliers, aiding in the identification of anomalous data points that might skew statistical analyses.\n",
        "\n",
        "Overall, these findings provided a comprehensive overview of the demographic, health-related, and financial characteristics within the insurance dataset, facilitating deeper insights into the distribution and variability of 'age', 'BMI', and 'charges' among insured individuals."
      ],
      "metadata": {
        "id": "bqdNIPJKlSvi"
      }
    },
    {
      "cell_type": "code",
      "execution_count": null,
      "metadata": {
        "id": "AO8bfcwzE4OG",
        "colab": {
          "base_uri": "https://localhost:8080/",
          "height": 300
        },
        "outputId": "a8077279-8628-4153-b94f-404be46faf88"
      },
      "outputs": [
        {
          "output_type": "execute_result",
          "data": {
            "text/plain": [
              "               age          bmi     children       charges\n",
              "count  1338.000000  1338.000000  1338.000000   1338.000000\n",
              "mean     39.207025    30.663397     1.094918  13270.422265\n",
              "std      14.049960     6.098187     1.205493  12110.011237\n",
              "min      18.000000    15.960000     0.000000   1121.873900\n",
              "25%      27.000000    26.296250     0.000000   4740.287150\n",
              "50%      39.000000    30.400000     1.000000   9382.033000\n",
              "75%      51.000000    34.693750     2.000000  16639.912515\n",
              "max      64.000000    53.130000     5.000000  63770.428010"
            ],
            "text/html": [
              "\n",
              "  <div id=\"df-54927377-5bfa-4fe6-bc69-9acaf8ab468e\" class=\"colab-df-container\">\n",
              "    <div>\n",
              "<style scoped>\n",
              "    .dataframe tbody tr th:only-of-type {\n",
              "        vertical-align: middle;\n",
              "    }\n",
              "\n",
              "    .dataframe tbody tr th {\n",
              "        vertical-align: top;\n",
              "    }\n",
              "\n",
              "    .dataframe thead th {\n",
              "        text-align: right;\n",
              "    }\n",
              "</style>\n",
              "<table border=\"1\" class=\"dataframe\">\n",
              "  <thead>\n",
              "    <tr style=\"text-align: right;\">\n",
              "      <th></th>\n",
              "      <th>age</th>\n",
              "      <th>bmi</th>\n",
              "      <th>children</th>\n",
              "      <th>charges</th>\n",
              "    </tr>\n",
              "  </thead>\n",
              "  <tbody>\n",
              "    <tr>\n",
              "      <th>count</th>\n",
              "      <td>1338.000000</td>\n",
              "      <td>1338.000000</td>\n",
              "      <td>1338.000000</td>\n",
              "      <td>1338.000000</td>\n",
              "    </tr>\n",
              "    <tr>\n",
              "      <th>mean</th>\n",
              "      <td>39.207025</td>\n",
              "      <td>30.663397</td>\n",
              "      <td>1.094918</td>\n",
              "      <td>13270.422265</td>\n",
              "    </tr>\n",
              "    <tr>\n",
              "      <th>std</th>\n",
              "      <td>14.049960</td>\n",
              "      <td>6.098187</td>\n",
              "      <td>1.205493</td>\n",
              "      <td>12110.011237</td>\n",
              "    </tr>\n",
              "    <tr>\n",
              "      <th>min</th>\n",
              "      <td>18.000000</td>\n",
              "      <td>15.960000</td>\n",
              "      <td>0.000000</td>\n",
              "      <td>1121.873900</td>\n",
              "    </tr>\n",
              "    <tr>\n",
              "      <th>25%</th>\n",
              "      <td>27.000000</td>\n",
              "      <td>26.296250</td>\n",
              "      <td>0.000000</td>\n",
              "      <td>4740.287150</td>\n",
              "    </tr>\n",
              "    <tr>\n",
              "      <th>50%</th>\n",
              "      <td>39.000000</td>\n",
              "      <td>30.400000</td>\n",
              "      <td>1.000000</td>\n",
              "      <td>9382.033000</td>\n",
              "    </tr>\n",
              "    <tr>\n",
              "      <th>75%</th>\n",
              "      <td>51.000000</td>\n",
              "      <td>34.693750</td>\n",
              "      <td>2.000000</td>\n",
              "      <td>16639.912515</td>\n",
              "    </tr>\n",
              "    <tr>\n",
              "      <th>max</th>\n",
              "      <td>64.000000</td>\n",
              "      <td>53.130000</td>\n",
              "      <td>5.000000</td>\n",
              "      <td>63770.428010</td>\n",
              "    </tr>\n",
              "  </tbody>\n",
              "</table>\n",
              "</div>\n",
              "    <div class=\"colab-df-buttons\">\n",
              "\n",
              "  <div class=\"colab-df-container\">\n",
              "    <button class=\"colab-df-convert\" onclick=\"convertToInteractive('df-54927377-5bfa-4fe6-bc69-9acaf8ab468e')\"\n",
              "            title=\"Convert this dataframe to an interactive table.\"\n",
              "            style=\"display:none;\">\n",
              "\n",
              "  <svg xmlns=\"http://www.w3.org/2000/svg\" height=\"24px\" viewBox=\"0 -960 960 960\">\n",
              "    <path d=\"M120-120v-720h720v720H120Zm60-500h600v-160H180v160Zm220 220h160v-160H400v160Zm0 220h160v-160H400v160ZM180-400h160v-160H180v160Zm440 0h160v-160H620v160ZM180-180h160v-160H180v160Zm440 0h160v-160H620v160Z\"/>\n",
              "  </svg>\n",
              "    </button>\n",
              "\n",
              "  <style>\n",
              "    .colab-df-container {\n",
              "      display:flex;\n",
              "      gap: 12px;\n",
              "    }\n",
              "\n",
              "    .colab-df-convert {\n",
              "      background-color: #E8F0FE;\n",
              "      border: none;\n",
              "      border-radius: 50%;\n",
              "      cursor: pointer;\n",
              "      display: none;\n",
              "      fill: #1967D2;\n",
              "      height: 32px;\n",
              "      padding: 0 0 0 0;\n",
              "      width: 32px;\n",
              "    }\n",
              "\n",
              "    .colab-df-convert:hover {\n",
              "      background-color: #E2EBFA;\n",
              "      box-shadow: 0px 1px 2px rgba(60, 64, 67, 0.3), 0px 1px 3px 1px rgba(60, 64, 67, 0.15);\n",
              "      fill: #174EA6;\n",
              "    }\n",
              "\n",
              "    .colab-df-buttons div {\n",
              "      margin-bottom: 4px;\n",
              "    }\n",
              "\n",
              "    [theme=dark] .colab-df-convert {\n",
              "      background-color: #3B4455;\n",
              "      fill: #D2E3FC;\n",
              "    }\n",
              "\n",
              "    [theme=dark] .colab-df-convert:hover {\n",
              "      background-color: #434B5C;\n",
              "      box-shadow: 0px 1px 3px 1px rgba(0, 0, 0, 0.15);\n",
              "      filter: drop-shadow(0px 1px 2px rgba(0, 0, 0, 0.3));\n",
              "      fill: #FFFFFF;\n",
              "    }\n",
              "  </style>\n",
              "\n",
              "    <script>\n",
              "      const buttonEl =\n",
              "        document.querySelector('#df-54927377-5bfa-4fe6-bc69-9acaf8ab468e button.colab-df-convert');\n",
              "      buttonEl.style.display =\n",
              "        google.colab.kernel.accessAllowed ? 'block' : 'none';\n",
              "\n",
              "      async function convertToInteractive(key) {\n",
              "        const element = document.querySelector('#df-54927377-5bfa-4fe6-bc69-9acaf8ab468e');\n",
              "        const dataTable =\n",
              "          await google.colab.kernel.invokeFunction('convertToInteractive',\n",
              "                                                    [key], {});\n",
              "        if (!dataTable) return;\n",
              "\n",
              "        const docLinkHtml = 'Like what you see? Visit the ' +\n",
              "          '<a target=\"_blank\" href=https://colab.research.google.com/notebooks/data_table.ipynb>data table notebook</a>'\n",
              "          + ' to learn more about interactive tables.';\n",
              "        element.innerHTML = '';\n",
              "        dataTable['output_type'] = 'display_data';\n",
              "        await google.colab.output.renderOutput(dataTable, element);\n",
              "        const docLink = document.createElement('div');\n",
              "        docLink.innerHTML = docLinkHtml;\n",
              "        element.appendChild(docLink);\n",
              "      }\n",
              "    </script>\n",
              "  </div>\n",
              "\n",
              "\n",
              "<div id=\"df-e26749b2-401f-483a-8be7-1bc343d2c5ac\">\n",
              "  <button class=\"colab-df-quickchart\" onclick=\"quickchart('df-e26749b2-401f-483a-8be7-1bc343d2c5ac')\"\n",
              "            title=\"Suggest charts\"\n",
              "            style=\"display:none;\">\n",
              "\n",
              "<svg xmlns=\"http://www.w3.org/2000/svg\" height=\"24px\"viewBox=\"0 0 24 24\"\n",
              "     width=\"24px\">\n",
              "    <g>\n",
              "        <path d=\"M19 3H5c-1.1 0-2 .9-2 2v14c0 1.1.9 2 2 2h14c1.1 0 2-.9 2-2V5c0-1.1-.9-2-2-2zM9 17H7v-7h2v7zm4 0h-2V7h2v10zm4 0h-2v-4h2v4z\"/>\n",
              "    </g>\n",
              "</svg>\n",
              "  </button>\n",
              "\n",
              "<style>\n",
              "  .colab-df-quickchart {\n",
              "      --bg-color: #E8F0FE;\n",
              "      --fill-color: #1967D2;\n",
              "      --hover-bg-color: #E2EBFA;\n",
              "      --hover-fill-color: #174EA6;\n",
              "      --disabled-fill-color: #AAA;\n",
              "      --disabled-bg-color: #DDD;\n",
              "  }\n",
              "\n",
              "  [theme=dark] .colab-df-quickchart {\n",
              "      --bg-color: #3B4455;\n",
              "      --fill-color: #D2E3FC;\n",
              "      --hover-bg-color: #434B5C;\n",
              "      --hover-fill-color: #FFFFFF;\n",
              "      --disabled-bg-color: #3B4455;\n",
              "      --disabled-fill-color: #666;\n",
              "  }\n",
              "\n",
              "  .colab-df-quickchart {\n",
              "    background-color: var(--bg-color);\n",
              "    border: none;\n",
              "    border-radius: 50%;\n",
              "    cursor: pointer;\n",
              "    display: none;\n",
              "    fill: var(--fill-color);\n",
              "    height: 32px;\n",
              "    padding: 0;\n",
              "    width: 32px;\n",
              "  }\n",
              "\n",
              "  .colab-df-quickchart:hover {\n",
              "    background-color: var(--hover-bg-color);\n",
              "    box-shadow: 0 1px 2px rgba(60, 64, 67, 0.3), 0 1px 3px 1px rgba(60, 64, 67, 0.15);\n",
              "    fill: var(--button-hover-fill-color);\n",
              "  }\n",
              "\n",
              "  .colab-df-quickchart-complete:disabled,\n",
              "  .colab-df-quickchart-complete:disabled:hover {\n",
              "    background-color: var(--disabled-bg-color);\n",
              "    fill: var(--disabled-fill-color);\n",
              "    box-shadow: none;\n",
              "  }\n",
              "\n",
              "  .colab-df-spinner {\n",
              "    border: 2px solid var(--fill-color);\n",
              "    border-color: transparent;\n",
              "    border-bottom-color: var(--fill-color);\n",
              "    animation:\n",
              "      spin 1s steps(1) infinite;\n",
              "  }\n",
              "\n",
              "  @keyframes spin {\n",
              "    0% {\n",
              "      border-color: transparent;\n",
              "      border-bottom-color: var(--fill-color);\n",
              "      border-left-color: var(--fill-color);\n",
              "    }\n",
              "    20% {\n",
              "      border-color: transparent;\n",
              "      border-left-color: var(--fill-color);\n",
              "      border-top-color: var(--fill-color);\n",
              "    }\n",
              "    30% {\n",
              "      border-color: transparent;\n",
              "      border-left-color: var(--fill-color);\n",
              "      border-top-color: var(--fill-color);\n",
              "      border-right-color: var(--fill-color);\n",
              "    }\n",
              "    40% {\n",
              "      border-color: transparent;\n",
              "      border-right-color: var(--fill-color);\n",
              "      border-top-color: var(--fill-color);\n",
              "    }\n",
              "    60% {\n",
              "      border-color: transparent;\n",
              "      border-right-color: var(--fill-color);\n",
              "    }\n",
              "    80% {\n",
              "      border-color: transparent;\n",
              "      border-right-color: var(--fill-color);\n",
              "      border-bottom-color: var(--fill-color);\n",
              "    }\n",
              "    90% {\n",
              "      border-color: transparent;\n",
              "      border-bottom-color: var(--fill-color);\n",
              "    }\n",
              "  }\n",
              "</style>\n",
              "\n",
              "  <script>\n",
              "    async function quickchart(key) {\n",
              "      const quickchartButtonEl =\n",
              "        document.querySelector('#' + key + ' button');\n",
              "      quickchartButtonEl.disabled = true;  // To prevent multiple clicks.\n",
              "      quickchartButtonEl.classList.add('colab-df-spinner');\n",
              "      try {\n",
              "        const charts = await google.colab.kernel.invokeFunction(\n",
              "            'suggestCharts', [key], {});\n",
              "      } catch (error) {\n",
              "        console.error('Error during call to suggestCharts:', error);\n",
              "      }\n",
              "      quickchartButtonEl.classList.remove('colab-df-spinner');\n",
              "      quickchartButtonEl.classList.add('colab-df-quickchart-complete');\n",
              "    }\n",
              "    (() => {\n",
              "      let quickchartButtonEl =\n",
              "        document.querySelector('#df-e26749b2-401f-483a-8be7-1bc343d2c5ac button');\n",
              "      quickchartButtonEl.style.display =\n",
              "        google.colab.kernel.accessAllowed ? 'block' : 'none';\n",
              "    })();\n",
              "  </script>\n",
              "</div>\n",
              "\n",
              "    </div>\n",
              "  </div>\n"
            ],
            "application/vnd.google.colaboratory.intrinsic+json": {
              "type": "dataframe",
              "summary": "{\n  \"name\": \"# Write a 15 line summary about your findings\",\n  \"rows\": 8,\n  \"fields\": [\n    {\n      \"column\": \"age\",\n      \"properties\": {\n        \"dtype\": \"number\",\n        \"std\": 460.6106090399993,\n        \"min\": 14.049960379216154,\n        \"max\": 1338.0,\n        \"num_unique_values\": 8,\n        \"samples\": [\n          39.20702541106129,\n          39.0,\n          1338.0\n        ],\n        \"semantic_type\": \"\",\n        \"description\": \"\"\n      }\n    },\n    {\n      \"column\": \"bmi\",\n      \"properties\": {\n        \"dtype\": \"number\",\n        \"std\": 463.29524977918294,\n        \"min\": 6.098186911679014,\n        \"max\": 1338.0,\n        \"num_unique_values\": 8,\n        \"samples\": [\n          30.66339686098655,\n          30.4,\n          1338.0\n        ],\n        \"semantic_type\": \"\",\n        \"description\": \"\"\n      }\n    },\n    {\n      \"column\": \"children\",\n      \"properties\": {\n        \"dtype\": \"number\",\n        \"std\": 472.5368318870757,\n        \"min\": 0.0,\n        \"max\": 1338.0,\n        \"num_unique_values\": 7,\n        \"samples\": [\n          1338.0,\n          1.0949177877429,\n          2.0\n        ],\n        \"semantic_type\": \"\",\n        \"description\": \"\"\n      }\n    },\n    {\n      \"column\": \"charges\",\n      \"properties\": {\n        \"dtype\": \"number\",\n        \"std\": 20381.922846226596,\n        \"min\": 1121.8739,\n        \"max\": 63770.42801,\n        \"num_unique_values\": 8,\n        \"samples\": [\n          13270.422265141257,\n          9382.033,\n          1338.0\n        ],\n        \"semantic_type\": \"\",\n        \"description\": \"\"\n      }\n    }\n  ]\n}"
            }
          },
          "metadata": {},
          "execution_count": 69
        }
      ],
      "source": [
        "# Print all the descriptive statistics together.\n",
        "data.describe()\n",
        "# Write a 15 line summary about your findings."
      ]
    },
    {
      "cell_type": "markdown",
      "metadata": {
        "id": "9MrX1XmgE4OG"
      },
      "source": [
        "## Skewness\n",
        "\n",
        "In probability theory and statistics, skewness is a measure of the asymmetry of the probability distribution of a real-valued random variable about its mean. The skewness value can be positive or negative, or undefined\n",
        "\n",
        "<img src=\"Images/skewness.jpg\" width=\"800\" height=\"250\">"
      ]
    },
    {
      "cell_type": "code",
      "execution_count": null,
      "metadata": {
        "id": "dvsXpZwQE4OG",
        "outputId": "7fc3e578-5258-4c6b-82df-1d9380728215",
        "colab": {
          "base_uri": "https://localhost:8080/",
          "height": 206
        }
      },
      "outputs": [
        {
          "output_type": "execute_result",
          "data": {
            "text/plain": [
              "   age     sex     bmi  children smoker     region      charges\n",
              "0   19  female  27.900         0    yes  southwest  16884.92400\n",
              "1   18    male  33.770         1     no  southeast   1725.55230\n",
              "2   28    male  33.000         3     no  southeast   4449.46200\n",
              "3   33    male  22.705         0     no  northwest  21984.47061\n",
              "4   32    male  28.880         0     no  northwest   3866.85520"
            ],
            "text/html": [
              "\n",
              "  <div id=\"df-3fb19ecb-38ee-44a4-bd90-02fc20061b2e\" class=\"colab-df-container\">\n",
              "    <div>\n",
              "<style scoped>\n",
              "    .dataframe tbody tr th:only-of-type {\n",
              "        vertical-align: middle;\n",
              "    }\n",
              "\n",
              "    .dataframe tbody tr th {\n",
              "        vertical-align: top;\n",
              "    }\n",
              "\n",
              "    .dataframe thead th {\n",
              "        text-align: right;\n",
              "    }\n",
              "</style>\n",
              "<table border=\"1\" class=\"dataframe\">\n",
              "  <thead>\n",
              "    <tr style=\"text-align: right;\">\n",
              "      <th></th>\n",
              "      <th>age</th>\n",
              "      <th>sex</th>\n",
              "      <th>bmi</th>\n",
              "      <th>children</th>\n",
              "      <th>smoker</th>\n",
              "      <th>region</th>\n",
              "      <th>charges</th>\n",
              "    </tr>\n",
              "  </thead>\n",
              "  <tbody>\n",
              "    <tr>\n",
              "      <th>0</th>\n",
              "      <td>19</td>\n",
              "      <td>female</td>\n",
              "      <td>27.900</td>\n",
              "      <td>0</td>\n",
              "      <td>yes</td>\n",
              "      <td>southwest</td>\n",
              "      <td>16884.92400</td>\n",
              "    </tr>\n",
              "    <tr>\n",
              "      <th>1</th>\n",
              "      <td>18</td>\n",
              "      <td>male</td>\n",
              "      <td>33.770</td>\n",
              "      <td>1</td>\n",
              "      <td>no</td>\n",
              "      <td>southeast</td>\n",
              "      <td>1725.55230</td>\n",
              "    </tr>\n",
              "    <tr>\n",
              "      <th>2</th>\n",
              "      <td>28</td>\n",
              "      <td>male</td>\n",
              "      <td>33.000</td>\n",
              "      <td>3</td>\n",
              "      <td>no</td>\n",
              "      <td>southeast</td>\n",
              "      <td>4449.46200</td>\n",
              "    </tr>\n",
              "    <tr>\n",
              "      <th>3</th>\n",
              "      <td>33</td>\n",
              "      <td>male</td>\n",
              "      <td>22.705</td>\n",
              "      <td>0</td>\n",
              "      <td>no</td>\n",
              "      <td>northwest</td>\n",
              "      <td>21984.47061</td>\n",
              "    </tr>\n",
              "    <tr>\n",
              "      <th>4</th>\n",
              "      <td>32</td>\n",
              "      <td>male</td>\n",
              "      <td>28.880</td>\n",
              "      <td>0</td>\n",
              "      <td>no</td>\n",
              "      <td>northwest</td>\n",
              "      <td>3866.85520</td>\n",
              "    </tr>\n",
              "  </tbody>\n",
              "</table>\n",
              "</div>\n",
              "    <div class=\"colab-df-buttons\">\n",
              "\n",
              "  <div class=\"colab-df-container\">\n",
              "    <button class=\"colab-df-convert\" onclick=\"convertToInteractive('df-3fb19ecb-38ee-44a4-bd90-02fc20061b2e')\"\n",
              "            title=\"Convert this dataframe to an interactive table.\"\n",
              "            style=\"display:none;\">\n",
              "\n",
              "  <svg xmlns=\"http://www.w3.org/2000/svg\" height=\"24px\" viewBox=\"0 -960 960 960\">\n",
              "    <path d=\"M120-120v-720h720v720H120Zm60-500h600v-160H180v160Zm220 220h160v-160H400v160Zm0 220h160v-160H400v160ZM180-400h160v-160H180v160Zm440 0h160v-160H620v160ZM180-180h160v-160H180v160Zm440 0h160v-160H620v160Z\"/>\n",
              "  </svg>\n",
              "    </button>\n",
              "\n",
              "  <style>\n",
              "    .colab-df-container {\n",
              "      display:flex;\n",
              "      gap: 12px;\n",
              "    }\n",
              "\n",
              "    .colab-df-convert {\n",
              "      background-color: #E8F0FE;\n",
              "      border: none;\n",
              "      border-radius: 50%;\n",
              "      cursor: pointer;\n",
              "      display: none;\n",
              "      fill: #1967D2;\n",
              "      height: 32px;\n",
              "      padding: 0 0 0 0;\n",
              "      width: 32px;\n",
              "    }\n",
              "\n",
              "    .colab-df-convert:hover {\n",
              "      background-color: #E2EBFA;\n",
              "      box-shadow: 0px 1px 2px rgba(60, 64, 67, 0.3), 0px 1px 3px 1px rgba(60, 64, 67, 0.15);\n",
              "      fill: #174EA6;\n",
              "    }\n",
              "\n",
              "    .colab-df-buttons div {\n",
              "      margin-bottom: 4px;\n",
              "    }\n",
              "\n",
              "    [theme=dark] .colab-df-convert {\n",
              "      background-color: #3B4455;\n",
              "      fill: #D2E3FC;\n",
              "    }\n",
              "\n",
              "    [theme=dark] .colab-df-convert:hover {\n",
              "      background-color: #434B5C;\n",
              "      box-shadow: 0px 1px 3px 1px rgba(0, 0, 0, 0.15);\n",
              "      filter: drop-shadow(0px 1px 2px rgba(0, 0, 0, 0.3));\n",
              "      fill: #FFFFFF;\n",
              "    }\n",
              "  </style>\n",
              "\n",
              "    <script>\n",
              "      const buttonEl =\n",
              "        document.querySelector('#df-3fb19ecb-38ee-44a4-bd90-02fc20061b2e button.colab-df-convert');\n",
              "      buttonEl.style.display =\n",
              "        google.colab.kernel.accessAllowed ? 'block' : 'none';\n",
              "\n",
              "      async function convertToInteractive(key) {\n",
              "        const element = document.querySelector('#df-3fb19ecb-38ee-44a4-bd90-02fc20061b2e');\n",
              "        const dataTable =\n",
              "          await google.colab.kernel.invokeFunction('convertToInteractive',\n",
              "                                                    [key], {});\n",
              "        if (!dataTable) return;\n",
              "\n",
              "        const docLinkHtml = 'Like what you see? Visit the ' +\n",
              "          '<a target=\"_blank\" href=https://colab.research.google.com/notebooks/data_table.ipynb>data table notebook</a>'\n",
              "          + ' to learn more about interactive tables.';\n",
              "        element.innerHTML = '';\n",
              "        dataTable['output_type'] = 'display_data';\n",
              "        await google.colab.output.renderOutput(dataTable, element);\n",
              "        const docLink = document.createElement('div');\n",
              "        docLink.innerHTML = docLinkHtml;\n",
              "        element.appendChild(docLink);\n",
              "      }\n",
              "    </script>\n",
              "  </div>\n",
              "\n",
              "\n",
              "<div id=\"df-47b01392-a894-46b2-9e48-5de50778e755\">\n",
              "  <button class=\"colab-df-quickchart\" onclick=\"quickchart('df-47b01392-a894-46b2-9e48-5de50778e755')\"\n",
              "            title=\"Suggest charts\"\n",
              "            style=\"display:none;\">\n",
              "\n",
              "<svg xmlns=\"http://www.w3.org/2000/svg\" height=\"24px\"viewBox=\"0 0 24 24\"\n",
              "     width=\"24px\">\n",
              "    <g>\n",
              "        <path d=\"M19 3H5c-1.1 0-2 .9-2 2v14c0 1.1.9 2 2 2h14c1.1 0 2-.9 2-2V5c0-1.1-.9-2-2-2zM9 17H7v-7h2v7zm4 0h-2V7h2v10zm4 0h-2v-4h2v4z\"/>\n",
              "    </g>\n",
              "</svg>\n",
              "  </button>\n",
              "\n",
              "<style>\n",
              "  .colab-df-quickchart {\n",
              "      --bg-color: #E8F0FE;\n",
              "      --fill-color: #1967D2;\n",
              "      --hover-bg-color: #E2EBFA;\n",
              "      --hover-fill-color: #174EA6;\n",
              "      --disabled-fill-color: #AAA;\n",
              "      --disabled-bg-color: #DDD;\n",
              "  }\n",
              "\n",
              "  [theme=dark] .colab-df-quickchart {\n",
              "      --bg-color: #3B4455;\n",
              "      --fill-color: #D2E3FC;\n",
              "      --hover-bg-color: #434B5C;\n",
              "      --hover-fill-color: #FFFFFF;\n",
              "      --disabled-bg-color: #3B4455;\n",
              "      --disabled-fill-color: #666;\n",
              "  }\n",
              "\n",
              "  .colab-df-quickchart {\n",
              "    background-color: var(--bg-color);\n",
              "    border: none;\n",
              "    border-radius: 50%;\n",
              "    cursor: pointer;\n",
              "    display: none;\n",
              "    fill: var(--fill-color);\n",
              "    height: 32px;\n",
              "    padding: 0;\n",
              "    width: 32px;\n",
              "  }\n",
              "\n",
              "  .colab-df-quickchart:hover {\n",
              "    background-color: var(--hover-bg-color);\n",
              "    box-shadow: 0 1px 2px rgba(60, 64, 67, 0.3), 0 1px 3px 1px rgba(60, 64, 67, 0.15);\n",
              "    fill: var(--button-hover-fill-color);\n",
              "  }\n",
              "\n",
              "  .colab-df-quickchart-complete:disabled,\n",
              "  .colab-df-quickchart-complete:disabled:hover {\n",
              "    background-color: var(--disabled-bg-color);\n",
              "    fill: var(--disabled-fill-color);\n",
              "    box-shadow: none;\n",
              "  }\n",
              "\n",
              "  .colab-df-spinner {\n",
              "    border: 2px solid var(--fill-color);\n",
              "    border-color: transparent;\n",
              "    border-bottom-color: var(--fill-color);\n",
              "    animation:\n",
              "      spin 1s steps(1) infinite;\n",
              "  }\n",
              "\n",
              "  @keyframes spin {\n",
              "    0% {\n",
              "      border-color: transparent;\n",
              "      border-bottom-color: var(--fill-color);\n",
              "      border-left-color: var(--fill-color);\n",
              "    }\n",
              "    20% {\n",
              "      border-color: transparent;\n",
              "      border-left-color: var(--fill-color);\n",
              "      border-top-color: var(--fill-color);\n",
              "    }\n",
              "    30% {\n",
              "      border-color: transparent;\n",
              "      border-left-color: var(--fill-color);\n",
              "      border-top-color: var(--fill-color);\n",
              "      border-right-color: var(--fill-color);\n",
              "    }\n",
              "    40% {\n",
              "      border-color: transparent;\n",
              "      border-right-color: var(--fill-color);\n",
              "      border-top-color: var(--fill-color);\n",
              "    }\n",
              "    60% {\n",
              "      border-color: transparent;\n",
              "      border-right-color: var(--fill-color);\n",
              "    }\n",
              "    80% {\n",
              "      border-color: transparent;\n",
              "      border-right-color: var(--fill-color);\n",
              "      border-bottom-color: var(--fill-color);\n",
              "    }\n",
              "    90% {\n",
              "      border-color: transparent;\n",
              "      border-bottom-color: var(--fill-color);\n",
              "    }\n",
              "  }\n",
              "</style>\n",
              "\n",
              "  <script>\n",
              "    async function quickchart(key) {\n",
              "      const quickchartButtonEl =\n",
              "        document.querySelector('#' + key + ' button');\n",
              "      quickchartButtonEl.disabled = true;  // To prevent multiple clicks.\n",
              "      quickchartButtonEl.classList.add('colab-df-spinner');\n",
              "      try {\n",
              "        const charts = await google.colab.kernel.invokeFunction(\n",
              "            'suggestCharts', [key], {});\n",
              "      } catch (error) {\n",
              "        console.error('Error during call to suggestCharts:', error);\n",
              "      }\n",
              "      quickchartButtonEl.classList.remove('colab-df-spinner');\n",
              "      quickchartButtonEl.classList.add('colab-df-quickchart-complete');\n",
              "    }\n",
              "    (() => {\n",
              "      let quickchartButtonEl =\n",
              "        document.querySelector('#df-47b01392-a894-46b2-9e48-5de50778e755 button');\n",
              "      quickchartButtonEl.style.display =\n",
              "        google.colab.kernel.accessAllowed ? 'block' : 'none';\n",
              "    })();\n",
              "  </script>\n",
              "</div>\n",
              "\n",
              "    </div>\n",
              "  </div>\n"
            ],
            "application/vnd.google.colaboratory.intrinsic+json": {
              "type": "dataframe",
              "variable_name": "data",
              "summary": "{\n  \"name\": \"data\",\n  \"rows\": 1338,\n  \"fields\": [\n    {\n      \"column\": \"age\",\n      \"properties\": {\n        \"dtype\": \"number\",\n        \"std\": 14,\n        \"min\": 18,\n        \"max\": 64,\n        \"num_unique_values\": 47,\n        \"samples\": [\n          21,\n          45,\n          36\n        ],\n        \"semantic_type\": \"\",\n        \"description\": \"\"\n      }\n    },\n    {\n      \"column\": \"sex\",\n      \"properties\": {\n        \"dtype\": \"category\",\n        \"num_unique_values\": 2,\n        \"samples\": [\n          \"male\",\n          \"female\"\n        ],\n        \"semantic_type\": \"\",\n        \"description\": \"\"\n      }\n    },\n    {\n      \"column\": \"bmi\",\n      \"properties\": {\n        \"dtype\": \"number\",\n        \"std\": 6.098186911679014,\n        \"min\": 15.96,\n        \"max\": 53.13,\n        \"num_unique_values\": 548,\n        \"samples\": [\n          23.18,\n          26.885\n        ],\n        \"semantic_type\": \"\",\n        \"description\": \"\"\n      }\n    },\n    {\n      \"column\": \"children\",\n      \"properties\": {\n        \"dtype\": \"number\",\n        \"std\": 1,\n        \"min\": 0,\n        \"max\": 5,\n        \"num_unique_values\": 6,\n        \"samples\": [\n          0,\n          1\n        ],\n        \"semantic_type\": \"\",\n        \"description\": \"\"\n      }\n    },\n    {\n      \"column\": \"smoker\",\n      \"properties\": {\n        \"dtype\": \"category\",\n        \"num_unique_values\": 2,\n        \"samples\": [\n          \"no\",\n          \"yes\"\n        ],\n        \"semantic_type\": \"\",\n        \"description\": \"\"\n      }\n    },\n    {\n      \"column\": \"region\",\n      \"properties\": {\n        \"dtype\": \"category\",\n        \"num_unique_values\": 4,\n        \"samples\": [\n          \"southeast\",\n          \"northeast\"\n        ],\n        \"semantic_type\": \"\",\n        \"description\": \"\"\n      }\n    },\n    {\n      \"column\": \"charges\",\n      \"properties\": {\n        \"dtype\": \"number\",\n        \"std\": 12110.011236694001,\n        \"min\": 1121.8739,\n        \"max\": 63770.42801,\n        \"num_unique_values\": 1337,\n        \"samples\": [\n          8688.85885,\n          5708.867\n        ],\n        \"semantic_type\": \"\",\n        \"description\": \"\"\n      }\n    }\n  ]\n}"
            }
          },
          "metadata": {},
          "execution_count": 71
        }
      ],
      "source": [
        "data.head()"
      ]
    },
    {
      "cell_type": "code",
      "execution_count": null,
      "metadata": {
        "id": "U5349XjAE4OH",
        "outputId": "840b44da-2b50-42d5-c13d-f3985b91c95c",
        "colab": {
          "base_uri": "https://localhost:8080/",
          "height": 522
        }
      },
      "outputs": [
        {
          "output_type": "display_data",
          "data": {
            "text/plain": [
              "<Figure size 1000x600 with 1 Axes>"
            ],
            "image/png": "[encoded data removed]"
          },
          "metadata": {}
        }
      ],
      "source": [
        "## plot the hist with mean median and mode - This needs to be checked!\n",
        "\n",
        "bmi = np.array(data['bmi'])\n",
        "plt.figure(figsize=(10, 6))\n",
        "plt.hist(bmi, bins=40, color = 'yellow')\n",
        "\n",
        "plt.plot([data['bmi'].mean()]*100, range(100), color = 'black', label='mode')\n",
        "plt.plot([data['bmi'].median()]*100, range(100), label='median')\n",
        "plt.plot([data['bmi'].mode()]*100, range(100), label='mean')\n",
        "\n",
        "plt.legend()\n",
        "plt.show()\n"
      ]
    },
    {
      "cell_type": "code",
      "execution_count": null,
      "metadata": {
        "id": "3YwrEaGbE4OH",
        "colab": {
          "base_uri": "https://localhost:8080/",
          "height": 662
        },
        "outputId": "5c92ef68-ab87-43c2-9661-5c95a7153e03"
      },
      "outputs": [
        {
          "output_type": "display_data",
          "data": {
            "text/plain": [
              "<Figure size 1200x600 with 2 Axes>"
            ],
            "image/png": "[encoded data removed]"
          },
          "metadata": {}
        },
        {
          "output_type": "stream",
          "name": "stdout",
          "text": [
            "Skewness for Age: 0.055610083072599126\n",
            "Skewness for BMI: 0.28372857291709386\n",
            "Skewness for Charges: 1.5141797118745743\n"
          ]
        }
      ],
      "source": [
        "# Plot similary histogram for age and charges.\n",
        "\n",
        "# Set up the figure and axis\n",
        "fig, axs = plt.subplots(1, 2, figsize=(12, 6))\n",
        "\n",
        "# Plot histogram for 'age'\n",
        "axs[0].hist(data['age'], bins=20, color='skyblue', edgecolor='black')\n",
        "axs[0].set_title('Histogram of Age')\n",
        "axs[0].set_xlabel('Age')\n",
        "axs[0].set_ylabel('Frequency')\n",
        "\n",
        "# Plot histogram for 'charges'\n",
        "axs[1].hist(data['charges'], bins=20, color='salmon', edgecolor='black')\n",
        "axs[1].set_title('Histogram of Charges')\n",
        "axs[1].set_xlabel('Charges')\n",
        "axs[1].set_ylabel('Frequency')\n",
        "\n",
        "# Adjust layout to prevent overlap\n",
        "plt.tight_layout()\n",
        "\n",
        "# Show plot\n",
        "plt.show()\n",
        "\n",
        "\n",
        "# Just by looking at the graph can you observe any skewness.\n",
        "\n",
        "# Try to compute the skewness of the age, bmi, and charges (google for respective function.)\n",
        "import pandas as pd\n",
        "from scipy.stats import skew\n",
        "\n",
        "# Load the data (assuming it's loaded from a CSV file named 'insurance.csv')\n",
        "data = pd.read_csv('/content/insurance.csv')\n",
        "\n",
        "# Calculate skewness for 'age', 'bmi', and 'charges'\n",
        "skew_age = skew(data['age'])\n",
        "skew_bmi = skew(data['bmi'])\n",
        "skew_charges = skew(data['charges'])\n",
        "\n",
        "# Print the results\n",
        "print(\"Skewness for Age:\", skew_age)\n",
        "print(\"Skewness for BMI:\", skew_bmi)\n",
        "print(\"Skewness for Charges:\", skew_charges)\n",
        "\n",
        "\n"
      ]
    },
    {
      "cell_type": "markdown",
      "metadata": {
        "id": "MkeCy7bSE4OH"
      },
      "source": [
        "### Covariance: Measure of Association between two variables"
      ]
    },
    {
      "cell_type": "markdown",
      "metadata": {
        "id": "aIsuhT8LE4OH"
      },
      "source": [
        "#### Covariance\n",
        "Covariance measures the strength of the linear relationship between two numerical variables. Covariance cannot tell whether the value indicates a strong or weak relationship because covariance can take any value and the covariance value depends on the units of measurement of the variables x and y. This is where the next measure, the correlation coefficient, comes to aid us.\n",
        "\n",
        "#### Correlation Coefficient\n",
        "The correlation coefficient measures the relationship between two variables that are not affected by the units of measurement. This measure tells us the relative strength of a linear relationship between two numerical variables.\n",
        "\n",
        "<img src=\"Images/Correlation.jpg\" width=\"500\" height=\"250\">"
      ]
    },
    {
      "cell_type": "code",
      "execution_count": null,
      "metadata": {
        "id": "UsYShN2qE4OI"
      },
      "outputs": [],
      "source": [
        "# Compute correlation and covariance between bmi and charges\n",
        "\n",
        "# Compute correlation and covariance between charges and age\n",
        "\n",
        "# Compute correlation and covariance between age and bmi\n"
      ]
    }
  ],
  "metadata": {
    "kernelspec": {
      "display_name": "env_tf",
      "language": "python",
      "name": "python3"
    },
    "language_info": {
      "codemirror_mode": {
        "name": "ipython",
        "version": 3
      },
      "file_extension": ".py",
      "mimetype": "text/x-python",
      "name": "python",
      "nbconvert_exporter": "python",
      "pygments_lexer": "ipython3",
      "version": "3.6.2"
    },
    "colab": {
      "provenance": []
    }
  },
  "nbformat": 4,
  "nbformat_minor": 0
}