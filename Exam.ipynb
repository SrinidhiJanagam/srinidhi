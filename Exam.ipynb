{
  "nbformat": 4,
  "nbformat_minor": 0,
  "metadata": {
    "colab": {
      "provenance": []
    },
    "kernelspec": {
      "name": "python3",
      "display_name": "Python 3"
    },
    "language_info": {
      "name": "python"
    }
  },
  "cells": [
    {
      "cell_type": "code",
      "execution_count": null,
      "metadata": {
        "colab": {
          "base_uri": "https://localhost:8080/"
        },
        "id": "rIsaStGyHE5z",
        "outputId": "99a236f5-dd66-4a97-d676-dfd9036f02d3"
      },
      "outputs": [
        {
          "output_type": "stream",
          "name": "stdout",
          "text": [
            "Total distance: 0.049810573869249024\n",
            "Line equation is: y = 1.99x + 0.06\n"
          ]
        }
      ],
      "source": [
        "import numpy as np\n",
        "\n",
        "class LineModel:\n",
        "    def __init__(self):\n",
        "        \"\"\"\n",
        "        Initialize a new LineModel with a default slope and bias values.\n",
        "        \"\"\"\n",
        "        self.slope = 1  # Default slope\n",
        "        self.bias = 0   # Default bias\n",
        "        self.points = []\n",
        "\n",
        "    def add_points(self, points):\n",
        "        \"\"\"\n",
        "        Adds new points to the existing points list.\n",
        "        \"\"\"\n",
        "        self.points.extend(points)\n",
        "\n",
        "    def total_distance(self):\n",
        "        \"\"\"\n",
        "        Computes the summation of all perpendicular distances between points and line and returns the sum.\n",
        "        \"\"\"\n",
        "        total_distance = 0\n",
        "        for x, y in self.points:\n",
        "            distance = abs(y - (self.slope * x + self.bias)) / np.sqrt(self.slope**2 + 1)\n",
        "            total_distance += distance\n",
        "        return total_distance\n",
        "\n",
        "    def line_equation(self):\n",
        "        \"\"\"\n",
        "        Prints the line equation in the form of y = mx + c.\n",
        "        \"\"\"\n",
        "        return f\"y = {self.slope:.2f}x + {self.bias:.2f}\"\n",
        "\n",
        "\n",
        "class OptimizeLineModel(LineModel):\n",
        "    def __init__(self, learning_rate, iterations):\n",
        "        super().__init__()\n",
        "        \"\"\"\n",
        "        Initialize a new OptimizeLineModel with a default learning rate and iterations.\n",
        "        \"\"\"\n",
        "        self.learning_rate = learning_rate\n",
        "        self.iterations = iterations\n",
        "\n",
        "    def optimize_line(self):\n",
        "        \"\"\"\n",
        "        Update the line slope and bias values to minimize the distance between points and line.\n",
        "        \"\"\"\n",
        "        for _ in range(self.iterations):\n",
        "            slope_gradient = 0\n",
        "            bias_gradient = 0\n",
        "\n",
        "            for x, y in self.points:\n",
        "                distance = y - (self.slope * x + self.bias)\n",
        "                slope_gradient += -2 * x * distance / (self.slope**2 + 1)\n",
        "                bias_gradient += -2 * distance / (self.slope**2 + 1)\n",
        "\n",
        "            self.slope -= self.learning_rate * slope_gradient / len(self.points)\n",
        "            self.bias -= self.learning_rate * bias_gradient / len(self.points)\n",
        "\n",
        "\n",
        "# Implementation\n",
        "\n",
        "# TestCase\n",
        "points = [(1, 2), (4, 8), (3, 6), (8, 16)]\n",
        "\n",
        "model = OptimizeLineModel(learning_rate=0.01, iterations=1000)\n",
        "model.add_points(points)\n",
        "model.optimize_line()\n",
        "\n",
        "print(f'Total distance: {model.total_distance()}')\n",
        "print(f'Line equation is: {model.line_equation()}')\n"
      ]
    },
    {
      "cell_type": "code",
      "source": [
        "\n"
      ],
      "metadata": {
        "colab": {
          "base_uri": "https://localhost:8080/"
        },
        "id": "76qwb4bARl28",
        "outputId": "64cfe7ae-06eb-45e3-d546-c1b93e38a416"
      },
      "execution_count": null,
      "outputs": [
        {
          "output_type": "stream",
          "name": "stdout",
          "text": [
            "Optimized slope: -12.509667642075389\n",
            "Optimized intercept: -3.8725387117432444\n"
          ]
        }
      ]
    },
    {
      "cell_type": "code",
      "source": [],
      "metadata": {
        "id": "S72u-4fsSxxC"
      },
      "execution_count": null,
      "outputs": []
    }
  ]
}