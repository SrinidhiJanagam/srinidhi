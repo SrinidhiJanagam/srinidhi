{
  "nbformat": 4,
  "nbformat_minor": 0,
  "metadata": {
    "colab": {
      "provenance": []
    },
    "kernelspec": {
      "name": "python3",
      "display_name": "Python 3"
    },
    "language_info": {
      "name": "python"
    }
  },
  "cells": [
    {
      "cell_type": "code",
      "execution_count": null,
      "metadata": {
        "colab": {
          "base_uri": "https://localhost:8080/"
        },
        "id": "m2sROoVm8d4g",
        "outputId": "2b955ea6-373a-41f2-c5e5-cd445a911086"
      },
      "outputs": [
        {
          "output_type": "stream",
          "name": "stdout",
          "text": [
            "area is: 15\n"
          ]
        }
      ],
      "source": [
        "length=3\n",
        "width=5\n",
        "area=length*width\n",
        "print(\"area is:\" ,area)\n"
      ]
    },
    {
      "cell_type": "code",
      "source": [
        "def area(length,width):\n",
        "  return length*width\n"
      ],
      "metadata": {
        "id": "e2GjC-7U-Hzg"
      },
      "execution_count": null,
      "outputs": []
    },
    {
      "cell_type": "code",
      "source": [
        "type(range(5))"
      ],
      "metadata": {
        "colab": {
          "base_uri": "https://localhost:8080/"
        },
        "id": "sC67av8wBjat",
        "outputId": "0b22629c-d558-4db5-e0a2-cbbb89107e83"
      },
      "execution_count": null,
      "outputs": [
        {
          "output_type": "execute_result",
          "data": {
            "text/plain": [
              "range"
            ]
          },
          "metadata": {},
          "execution_count": 2
        }
      ]
    },
    {
      "cell_type": "code",
      "source": [
        "print(type({})is set)"
      ],
      "metadata": {
        "colab": {
          "base_uri": "https://localhost:8080/"
        },
        "id": "IMzwiAFYBl_7",
        "outputId": "f9ca2133-74f7-4da1-b8ca-e994bb5bf313"
      },
      "execution_count": null,
      "outputs": [
        {
          "output_type": "stream",
          "name": "stdout",
          "text": [
            "False\n"
          ]
        }
      ]
    },
    {
      "cell_type": "code",
      "source": [
        "print(bool(0), bool(3.14159), bool(-3), bool(1.0+1j))\n"
      ],
      "metadata": {
        "colab": {
          "base_uri": "https://localhost:8080/"
        },
        "id": "582EPURuCkRs",
        "outputId": "adcf4cb0-b906-4676-c9ef-ff8e4e1ec9ec"
      },
      "execution_count": null,
      "outputs": [
        {
          "output_type": "stream",
          "name": "stdout",
          "text": [
            "False True True True\n"
          ]
        }
      ]
    },
    {
      "cell_type": "code",
      "source": [
        "y = 10\n",
        "x = y\n",
        "x+= 2\n",
        "print(x)"
      ],
      "metadata": {
        "id": "0SjueM8lDE-v",
        "colab": {
          "base_uri": "https://localhost:8080/"
        },
        "outputId": "7ae2ead7-3640-44c5-e65d-ae410641b228"
      },
      "execution_count": null,
      "outputs": [
        {
          "output_type": "stream",
          "name": "stdout",
          "text": [
            "12\n"
          ]
        }
      ]
    },
    {
      "cell_type": "code",
      "source": [
        "x = 10\n",
        "y = 50\n",
        "if x ** 2 > 100 and y < 100:\n",
        "    print(x, y)\n",
        "x\n",
        "y\n"
      ],
      "metadata": {
        "colab": {
          "base_uri": "https://localhost:8080/"
        },
        "id": "hnKTNP0kadE6",
        "outputId": "ebb4d8f3-0e7b-41b1-b54f-f1715661cc93"
      },
      "execution_count": null,
      "outputs": [
        {
          "output_type": "execute_result",
          "data": {
            "text/plain": [
              "50"
            ]
          },
          "metadata": {},
          "execution_count": 4
        }
      ]
    },
    {
      "cell_type": "code",
      "source": [
        "x\n"
      ],
      "metadata": {
        "colab": {
          "base_uri": "https://localhost:8080/"
        },
        "id": "d8JLF_PJasbq",
        "outputId": "9770a2cb-46be-41fd-d489-caab696f8b17"
      },
      "execution_count": null,
      "outputs": [
        {
          "output_type": "execute_result",
          "data": {
            "text/plain": [
              "10"
            ]
          },
          "metadata": {},
          "execution_count": 5
        }
      ]
    },
    {
      "cell_type": "code",
      "source": [
        "y"
      ],
      "metadata": {
        "colab": {
          "base_uri": "https://localhost:8080/"
        },
        "id": "IWeTQB6IbChx",
        "outputId": "5eeb11f1-3a46-4370-ab65-a85b361ead3f"
      },
      "execution_count": null,
      "outputs": [
        {
          "output_type": "execute_result",
          "data": {
            "text/plain": [
              "50"
            ]
          },
          "metadata": {},
          "execution_count": 6
        }
      ]
    },
    {
      "cell_type": "code",
      "source": [
        "x = 6\n",
        "y = 2\n",
        "print(x ** y)\n",
        "print(x // y)"
      ],
      "metadata": {
        "colab": {
          "base_uri": "https://localhost:8080/"
        },
        "id": "TGssiJaybESi",
        "outputId": "9eae1750-64e8-4c1f-eff0-495242a9fbc9"
      },
      "execution_count": null,
      "outputs": [
        {
          "output_type": "stream",
          "name": "stdout",
          "text": [
            "36\n",
            "3\n"
          ]
        }
      ]
    },
    {
      "cell_type": "code",
      "source": [
        "print(2 * 3 ** 3 * 4)"
      ],
      "metadata": {
        "colab": {
          "base_uri": "https://localhost:8080/"
        },
        "id": "64di5Bq7b0OQ",
        "outputId": "352a37d0-02f2-4e95-f9ea-290588c4c2bf"
      },
      "execution_count": null,
      "outputs": [
        {
          "output_type": "stream",
          "name": "stdout",
          "text": [
            "216\n"
          ]
        }
      ]
    },
    {
      "cell_type": "code",
      "source": [
        "a = [10, 20]\n",
        "b = a\n",
        "b += [30, 40]\n",
        "print(a)\n",
        "print(b)"
      ],
      "metadata": {
        "colab": {
          "base_uri": "https://localhost:8080/"
        },
        "id": "6FlCVAHqcAt_",
        "outputId": "f65224f4-6582-49ac-fc4e-36fcc9a8684f"
      },
      "execution_count": null,
      "outputs": [
        {
          "output_type": "stream",
          "name": "stdout",
          "text": [
            "[10, 20, 30, 40]\n",
            "[10, 20, 30, 40]\n"
          ]
        }
      ]
    },
    {
      "cell_type": "code",
      "source": [
        "x = 100\n",
        "y = 50\n",
        "print(x and y)\n"
      ],
      "metadata": {
        "colab": {
          "base_uri": "https://localhost:8080/"
        },
        "id": "dq8p3ibeddag",
        "outputId": "ee6d1213-e4a8-4f59-f37b-00ab8fd8731d"
      },
      "execution_count": null,
      "outputs": [
        {
          "output_type": "stream",
          "name": "stdout",
          "text": [
            "50\n"
          ]
        }
      ]
    },
    {
      "cell_type": "code",
      "source": [
        "flowers_list_constructor = list((\"Rose\", \"Peony\", \"Orchids\", \"Snowdrop\", \"Calendula\", \"Aster\", \"Tulips\", \"Bluebell\", \"Sunflower\"))\n",
        "print(flowers_list_constructor)\n",
        "length_of_flower=len(flowers_list_constructor)\n",
        "print(\"length of list\" ,length_of_flower)\n"
      ],
      "metadata": {
        "id": "i3cygOWOdkoF",
        "colab": {
          "base_uri": "https://localhost:8080/"
        },
        "outputId": "b90dff0b-29d3-4d83-87c2-768ab866edc7"
      },
      "execution_count": null,
      "outputs": [
        {
          "output_type": "stream",
          "name": "stdout",
          "text": [
            "['Rose', 'Peony', 'Orchids', 'Snowdrop', 'Calendula', 'Aster', 'Tulips', 'Bluebell', 'Sunflower']\n",
            "length of list 9\n"
          ]
        }
      ]
    },
    {
      "cell_type": "code",
      "source": [
        "stu_details=[{\"name\":\"nidhi\",\"age\":\"20\"},{\"name\":\"sri\",\"age\":\"19\"}]\n",
        "stu_reverse_list=stu_details[::-1]\n",
        "print(\"reverse of string:\" ,stu_reverse_list)\n",
        "for student in stu_reverse_list:\n",
        "  print(student)"
      ],
      "metadata": {
        "colab": {
          "base_uri": "https://localhost:8080/"
        },
        "id": "9VQ38cyUWEU-",
        "outputId": "12f9783e-8a9b-458e-de6e-ef6ceda85f76"
      },
      "execution_count": null,
      "outputs": [
        {
          "output_type": "stream",
          "name": "stdout",
          "text": [
            "reverse of string: [{'name': 'sri', 'age': '19'}, {'name': 'nidhi', 'age': '20'}]\n",
            "{'name': 'sri', 'age': '19'}\n",
            "{'name': 'nidhi', 'age': '20'}\n"
          ]
        }
      ]
    },
    {
      "cell_type": "code",
      "source": [
        "\n",
        "list1=[\"hello\",\"take\"]\n",
        "list2=[\"dear\",\"sir\"]\n",
        "Concatenate_list=list1+list2"
      ],
      "metadata": {
        "id": "Rhwk23H1f2l5"
      },
      "execution_count": null,
      "outputs": []
    },
    {
      "cell_type": "code",
      "source": [
        "print(\"concatenate list:\",Concatenate_list)"
      ],
      "metadata": {
        "colab": {
          "base_uri": "https://localhost:8080/"
        },
        "id": "aA3-Wly8iD9Q",
        "outputId": "04346614-a479-47a2-cc10-d46e4ecbcc57"
      },
      "execution_count": null,
      "outputs": [
        {
          "output_type": "stream",
          "name": "stdout",
          "text": [
            "concatenate list: ['hello', 'take', 'dear', 'sir']\n"
          ]
        }
      ]
    },
    {
      "cell_type": "code",
      "source": [
        "list1=[\"hello\",\"take\"]\n",
        "list2=[\"dear\",\"sir\"]\n",
        "list1.append(list2)"
      ],
      "metadata": {
        "id": "kNGK7N8hiNl5"
      },
      "execution_count": null,
      "outputs": []
    },
    {
      "cell_type": "code",
      "source": [
        "print(\"concatenate list:\",Concatenate_list)"
      ],
      "metadata": {
        "colab": {
          "base_uri": "https://localhost:8080/"
        },
        "id": "w8eFYqsYika3",
        "outputId": "8441bf0d-086c-45e9-bef1-265352c38ac7"
      },
      "execution_count": null,
      "outputs": [
        {
          "output_type": "stream",
          "name": "stdout",
          "text": [
            "concatenate list: ['hello', 'take', 'dear', 'sir']\n"
          ]
        }
      ]
    },
    {
      "cell_type": "code",
      "source": [
        "list1 = [10, 20, 300, 400, 5000, 6000, 500, 30, 40]\n",
        "index_of_6000=list1.index(6000)\n",
        "list1.insert(index_of_6000 + 1,7000)\n",
        "print(\"modified list\" ,list1)"
      ],
      "metadata": {
        "colab": {
          "base_uri": "https://localhost:8080/"
        },
        "id": "BXE2rIJiirn4",
        "outputId": "120aa01b-d234-4abe-9a9b-16b86633305b"
      },
      "execution_count": null,
      "outputs": [
        {
          "output_type": "stream",
          "name": "stdout",
          "text": [
            "modified list [10, 20, 300, 400, 5000, 6000, 7000, 500, 30, 40]\n"
          ]
        }
      ]
    },
    {
      "cell_type": "code",
      "source": [
        "list1 = [\"a\", \"b\", [\"c\", [\"d\", \"e\", [\"f\", \"g\"], \"k\"], \"l\"], \"m\", \"n\"]\n",
        "list1[2][1][2].extend(('h','i','j'))\n",
        "list1"
      ],
      "metadata": {
        "colab": {
          "base_uri": "https://localhost:8080/"
        },
        "id": "QhnNaXajk2nK",
        "outputId": "4d6d9e56-fa1c-4e66-fc42-1df63ea1af96"
      },
      "execution_count": null,
      "outputs": [
        {
          "output_type": "execute_result",
          "data": {
            "text/plain": [
              "['a', 'b', ['c', ['d', 'e', ['f', 'g', 'h', 'i', 'j'], 'k'], 'l'], 'm', 'n']"
            ]
          },
          "metadata": {},
          "execution_count": 9
        }
      ]
    },
    {
      "cell_type": "code",
      "source": [
        "list1 = [5, 10, 15, 20, 25, 50, 20]\n",
        "index_to_replace=list1.index(20)\n",
        "list1[index_to_replace]=200\n",
        "print(list1)"
      ],
      "metadata": {
        "colab": {
          "base_uri": "https://localhost:8080/"
        },
        "id": "zJH2afn7mn2s",
        "outputId": "10234827-842e-4bcb-a701-af605dc5164d"
      },
      "execution_count": null,
      "outputs": [
        {
          "output_type": "stream",
          "name": "stdout",
          "text": [
            "[5, 10, 15, 200, 25, 50, 20]\n"
          ]
        }
      ]
    },
    {
      "cell_type": "code",
      "source": [
        "Given_List=['Red', 'Green', 'White', 'Black', 'Pink', 'Yellow']\n",
        "indices_to_remove=[0,4,5]\n",
        "flitered_index=[color for idx,color in enumerate(Given_List) if idx not in indices_to_remove]\n",
        "print(Given_List)"
      ],
      "metadata": {
        "colab": {
          "base_uri": "https://localhost:8080/"
        },
        "id": "bsbF0gnkoQXI",
        "outputId": "78da3f41-ade9-42d2-ef2e-2bc32306021a"
      },
      "execution_count": null,
      "outputs": [
        {
          "output_type": "stream",
          "name": "stdout",
          "text": [
            "['Red', 'Green', 'White', 'Black', 'Pink', 'Yellow']\n"
          ]
        }
      ]
    },
    {
      "cell_type": "code",
      "source": [
        "list1= [1, 3, 5, 7, 9, 10]\n",
        "list2=[2, 4, 6, 8]\n",
        "result=list1+list2"
      ],
      "metadata": {
        "id": "VpsDVYoRqq0z"
      },
      "execution_count": null,
      "outputs": []
    },
    {
      "cell_type": "code",
      "source": [
        "print(result)"
      ],
      "metadata": {
        "colab": {
          "base_uri": "https://localhost:8080/"
        },
        "id": "z8DvcbwOrl3U",
        "outputId": "cb378d7f-15ac-4d39-ffad-9c55d1106572"
      },
      "execution_count": null,
      "outputs": [
        {
          "output_type": "stream",
          "name": "stdout",
          "text": [
            "[1, 3, 5, 7, 9, 10, 2, 4, 6, 8]\n"
          ]
        }
      ]
    },
    {
      "cell_type": "code",
      "source": [
        "list1= [1, 3, 5, 7, 9, 10]\n",
        "list2=[2, 4, 6, 8]\n",
        "result=list1+list2\n",
        "print(result)"
      ],
      "metadata": {
        "colab": {
          "base_uri": "https://localhost:8080/"
        },
        "id": "vzR_hrQproBa",
        "outputId": "1a9ec661-b49a-4604-8512-bf49f3ea85de"
      },
      "execution_count": null,
      "outputs": [
        {
          "output_type": "stream",
          "name": "stdout",
          "text": [
            "[1, 3, 5, 7, 9, 10, 2, 4, 6, 8]\n"
          ]
        }
      ]
    },
    {
      "cell_type": "code",
      "source": [
        "Number = [10, 20, 30, 40]\n",
        "animal = [\"Cat\", \"Dog\", \"Lion\", \"Ponda\"]\n",
        "Number.extend(animal)"
      ],
      "metadata": {
        "id": "b8RSYrgir4rG"
      },
      "execution_count": null,
      "outputs": []
    },
    {
      "cell_type": "code",
      "source": [
        "print(Number)"
      ],
      "metadata": {
        "colab": {
          "base_uri": "https://localhost:8080/"
        },
        "id": "5Vev1TIwsecY",
        "outputId": "a9573faa-40c0-4ee8-db60-3be4f05d5bf6"
      },
      "execution_count": null,
      "outputs": [
        {
          "output_type": "stream",
          "name": "stdout",
          "text": [
            "[10, 20, 30, 40, 'Cat', 'Dog', 'Lion', 'Ponda']\n"
          ]
        }
      ]
    },
    {
      "cell_type": "code",
      "source": [
        "#list\n",
        "#used to store collection of data.\n",
        "#this are changeble,order, allow duplicate []"
      ],
      "metadata": {
        "id": "F3o0gpzvsgTB"
      },
      "execution_count": null,
      "outputs": []
    },
    {
      "cell_type": "code",
      "source": [
        "from os.path import lexists\n",
        "my_list = [1, 2, 3, 4, 5]\n",
        "list=my_list[2] #indexing\n",
        "print(list)\n",
        "list=my_list[-1] #negitive indexing\n",
        "print(list)\n",
        "list=my_list[2:4] #slicing\n",
        "print(list)\n",
        "list=my_list[::2] #step slicing\n",
        "print(list)\n",
        "list=[x**2 for x in my_list] #list comprehension\n",
        "print(list)\n",
        "for item in my_list: #looping\n",
        "  print(item)\n",
        "a, b, c, d, e=my_list\n",
        "print(my_list)\n",
        "\n"
      ],
      "metadata": {
        "colab": {
          "base_uri": "https://localhost:8080/"
        },
        "id": "iuJ4pdKVuVYp",
        "outputId": "9d76cb33-43d6-47d6-e521-74f40b351c01"
      },
      "execution_count": null,
      "outputs": [
        {
          "output_type": "stream",
          "name": "stdout",
          "text": [
            "3\n",
            "5\n",
            "[3, 4]\n",
            "[1, 3, 5]\n",
            "[1, 4, 9, 16, 25]\n",
            "1\n",
            "2\n",
            "3\n",
            "4\n",
            "5\n",
            "[1, 2, 3, 4, 5]\n"
          ]
        }
      ]
    },
    {
      "cell_type": "code",
      "source": [
        "animal = [\"Cat\", \"Dog\", \"Lion\", \"Ponda\"]\n",
        "print(animal[0])\n",
        "first=animal[0]\n",
        "print(first)\n",
        "\n",
        "animal[0:2]"
      ],
      "metadata": {
        "colab": {
          "base_uri": "https://localhost:8080/"
        },
        "id": "afTPdNalu8Ta",
        "outputId": "be29f137-48e9-4feb-fb94-41bca2725486"
      },
      "execution_count": null,
      "outputs": [
        {
          "output_type": "stream",
          "name": "stdout",
          "text": [
            "Cat\n",
            "Cat\n"
          ]
        },
        {
          "output_type": "execute_result",
          "data": {
            "text/plain": [
              "['Cat', 'Dog']"
            ]
          },
          "metadata": {},
          "execution_count": 23
        }
      ]
    },
    {
      "cell_type": "code",
      "source": [
        "list1 = [5, 10, 15, 20, 25, 50, 20]\n",
        "index=list1.index(20)\n",
        "list1[index]=200\n",
        "list1"
      ],
      "metadata": {
        "id": "KZsTslhtxMRi",
        "colab": {
          "base_uri": "https://localhost:8080/"
        },
        "outputId": "c19b1f71-b66a-4190-f65a-98026ad99237"
      },
      "execution_count": null,
      "outputs": [
        {
          "output_type": "execute_result",
          "data": {
            "text/plain": [
              "[5, 10, 15, 200, 25, 50, 20]"
            ]
          },
          "metadata": {},
          "execution_count": 6
        }
      ]
    },
    {
      "cell_type": "code",
      "source": [
        "a=['Red', 'Green', 'White', 'Black', 'Pink', 'Yellow']\n",
        "index_to_remove=[1,4,5]\n",
        "updated_list= [element for i,element in enumerate(a) if i not in index_to_remove]\n",
        "updated_list\n",
        "\n",
        "\n"
      ],
      "metadata": {
        "colab": {
          "base_uri": "https://localhost:8080/"
        },
        "id": "dA1VJqJPGu_P",
        "outputId": "42d78a0c-3079-434f-9b75-3ffa2899c6e6"
      },
      "execution_count": null,
      "outputs": [
        {
          "output_type": "execute_result",
          "data": {
            "text/plain": [
              "['Red', 'White', 'Black']"
            ]
          },
          "metadata": {},
          "execution_count": 20
        }
      ]
    },
    {
      "cell_type": "code",
      "source": [
        "#length\n",
        "a=['Red', 'Green', 'White', 'Black', 'Pink', 'Yellow']\n",
        "len(a)"
      ],
      "metadata": {
        "id": "_Aq_H9bMJ4GP",
        "colab": {
          "base_uri": "https://localhost:8080/"
        },
        "outputId": "c52dc971-af3e-4484-e734-cc17bd91a39c"
      },
      "execution_count": null,
      "outputs": [
        {
          "output_type": "execute_result",
          "data": {
            "text/plain": [
              "6"
            ]
          },
          "metadata": {},
          "execution_count": 24
        }
      ]
    },
    {
      "cell_type": "code",
      "source": [
        "#Tuples\n",
        "tuple1 = (10, 20, 30, 40, 50)\n",
        "reversed_tuple = tuple1[::-1]\n",
        "print(reversed_tuple)"
      ],
      "metadata": {
        "id": "fOAjPwHEjkpb",
        "colab": {
          "base_uri": "https://localhost:8080/"
        },
        "outputId": "e24dc2f9-0f3f-4b7a-9b78-48e2eae50131"
      },
      "execution_count": null,
      "outputs": [
        {
          "output_type": "stream",
          "name": "stdout",
          "text": [
            "(50, 40, 30, 20, 10)\n"
          ]
        }
      ]
    },
    {
      "cell_type": "code",
      "source": [
        "# Accessing value\n",
        "tuple1 = (\"Orange\", [10, 20, 30], (5, 15, 25))\n",
        "value = tuple1[1][1]\n",
        "print(value)\n"
      ],
      "metadata": {
        "colab": {
          "base_uri": "https://localhost:8080/"
        },
        "id": "kiNP6GTiYVIe",
        "outputId": "33dddad7-b48e-431e-e744-83c328171b2a"
      },
      "execution_count": null,
      "outputs": [
        {
          "output_type": "stream",
          "name": "stdout",
          "text": [
            "20\n"
          ]
        }
      ]
    },
    {
      "cell_type": "code",
      "source": [
        "#tuple with a single item 50\n",
        "single_item_tuple = (50)\n",
        "\n",
        "print(single_item_tuple)\n"
      ],
      "metadata": {
        "colab": {
          "base_uri": "https://localhost:8080/"
        },
        "id": "DlDvEsqJYnxS",
        "outputId": "c54ae8ed-331b-4ca0-8019-66d0e02395a3"
      },
      "execution_count": null,
      "outputs": [
        {
          "output_type": "stream",
          "name": "stdout",
          "text": [
            "50\n"
          ]
        }
      ]
    },
    {
      "cell_type": "code",
      "source": [
        "# unpacking\n",
        "tuple1 = (10, 20, 30, 40)\n",
        "a, b, c, d = tuple1\n",
        "print(a)\n",
        "print(b)\n",
        "print(c)\n",
        "print(d)\n"
      ],
      "metadata": {
        "colab": {
          "base_uri": "https://localhost:8080/"
        },
        "id": "Ptg2JkGIY0I8",
        "outputId": "e86deb37-a5bc-4035-d53a-7603e9a131cd"
      },
      "execution_count": null,
      "outputs": [
        {
          "output_type": "stream",
          "name": "stdout",
          "text": [
            "10\n",
            "20\n",
            "30\n",
            "40\n"
          ]
        }
      ]
    },
    {
      "cell_type": "code",
      "source": [
        "# swapping tuples\n",
        "tuple1 = (11, 22)\n",
        "tuple2 = (99, 88)\n",
        "tuple1, tuple2 = tuple2, tuple1\n",
        "print(\"tuple1:\", tuple1)\n",
        "print(\"tuple2:\", tuple2)\n"
      ],
      "metadata": {
        "colab": {
          "base_uri": "https://localhost:8080/"
        },
        "id": "jpwq9oUWZMfq",
        "outputId": "15c8ff1e-629d-44e4-a61d-6fdc43feb769"
      },
      "execution_count": null,
      "outputs": [
        {
          "output_type": "stream",
          "name": "stdout",
          "text": [
            "tuple1: (99, 88)\n",
            "tuple2: (11, 22)\n"
          ]
        }
      ]
    },
    {
      "cell_type": "code",
      "source": [
        "# Copying tuples from one tuple to another\n",
        "tuple1 = (11, 22, 33, 44, 55, 66)\n",
        "\n",
        "tuple2 = (tuple1[3], tuple1[4])\n",
        "\n",
        "print(\"tuple2:\", tuple2)\n"
      ],
      "metadata": {
        "colab": {
          "base_uri": "https://localhost:8080/"
        },
        "id": "Srj1ohMOZZri",
        "outputId": "02bda1b9-2f54-4274-cd27-c0577db7671b"
      },
      "execution_count": null,
      "outputs": [
        {
          "output_type": "stream",
          "name": "stdout",
          "text": [
            "tuple2: (44, 55)\n"
          ]
        }
      ]
    },
    {
      "cell_type": "code",
      "source": [
        "# Modify tuple\n",
        "tuple1 = (11, [22, 33], 44, 55)\n",
        "\n",
        "tuple1[1][0] = 222\n",
        "\n",
        "print(\"tuple1:\", tuple1)\n"
      ],
      "metadata": {
        "colab": {
          "base_uri": "https://localhost:8080/"
        },
        "id": "He8vCkr6aK9g",
        "outputId": "aed8fc17-3bd8-4c9e-e67b-93a082e93b13"
      },
      "execution_count": null,
      "outputs": [
        {
          "output_type": "stream",
          "name": "stdout",
          "text": [
            "tuple1: (11, [222, 33], 44, 55)\n"
          ]
        }
      ]
    },
    {
      "cell_type": "code",
      "source": [
        "# Sort a tuple of tuples by 2nd item\n",
        "tuple1 = (('a', 23), ('b', 37), ('c', 11), ('d', 29))\n",
        "\n",
        "sorted_tuple = tuple(sorted(tuple1, key=lambda x: x[1]))\n",
        "\n",
        "print(sorted_tuple)\n"
      ],
      "metadata": {
        "colab": {
          "base_uri": "https://localhost:8080/"
        },
        "id": "XSyxjRC5aUP9",
        "outputId": "39b61e33-84f6-41bd-baae-536dd1de237c"
      },
      "execution_count": null,
      "outputs": [
        {
          "output_type": "stream",
          "name": "stdout",
          "text": [
            "(('c', 11), ('a', 23), ('d', 29), ('b', 37))\n"
          ]
        }
      ]
    },
    {
      "cell_type": "code",
      "source": [
        "# Occurances\n",
        "tuple1 = (50, 10, 60, 70, 50)\n",
        "occurrences = tuple1.count(50)\n",
        "\n",
        "print(occurrences)\n"
      ],
      "metadata": {
        "colab": {
          "base_uri": "https://localhost:8080/"
        },
        "id": "Vdu6F_nJbGdl",
        "outputId": "caed63c1-a2e8-4165-b34f-9a82917698a5"
      },
      "execution_count": null,
      "outputs": [
        {
          "output_type": "stream",
          "name": "stdout",
          "text": [
            "2\n"
          ]
        }
      ]
    },
    {
      "cell_type": "code",
      "source": [
        "# Check if all items in the tuple are the same\n",
        "tuple1 = (45, 45, 45, 45)\n",
        "result = all(x == tuple1[0] for x in tuple1)\n",
        "print(result)\n"
      ],
      "metadata": {
        "colab": {
          "base_uri": "https://localhost:8080/"
        },
        "id": "kFXJUUstb9XK",
        "outputId": "1c55974e-c4da-45a2-803f-7816491ddc81"
      },
      "execution_count": null,
      "outputs": [
        {
          "output_type": "stream",
          "name": "stdout",
          "text": [
            "True\n"
          ]
        }
      ]
    },
    {
      "cell_type": "code",
      "source": [
        "# Creating a tuple\n",
        "my_tuple = (1, 2, 3, 4, 5)\n",
        "\n",
        "print(my_tuple)\n"
      ],
      "metadata": {
        "colab": {
          "base_uri": "https://localhost:8080/"
        },
        "id": "h20zC_0ScHdF",
        "outputId": "c2c809f5-0025-4c56-e554-0b283687b742"
      },
      "execution_count": null,
      "outputs": [
        {
          "output_type": "stream",
          "name": "stdout",
          "text": [
            "(1, 2, 3, 4, 5)\n"
          ]
        }
      ]
    },
    {
      "cell_type": "code",
      "source": [
        "# Creating a tuple with different data types\n",
        "mixed_tuple = ('Hello', 123, 3.14, True, [1, 2, 3])\n",
        "\n",
        "print(mixed_tuple)\n"
      ],
      "metadata": {
        "colab": {
          "base_uri": "https://localhost:8080/"
        },
        "id": "VnWNxyyxcYew",
        "outputId": "f365fca8-d4e9-4252-fd72-7982f2b05e25"
      },
      "execution_count": null,
      "outputs": [
        {
          "output_type": "stream",
          "name": "stdout",
          "text": [
            "('Hello', 123, 3.14, True, [1, 2, 3])\n"
          ]
        }
      ]
    },
    {
      "cell_type": "code",
      "source": [
        "# Creating a tuple with numbers\n",
        "numbers_tuple = (1, 2, 3, 4, 5)\n",
        "\n",
        "print(\"One item from the tuple:\", numbers_tuple[2])\n"
      ],
      "metadata": {
        "id": "1_Jqt3LncjTQ",
        "colab": {
          "base_uri": "https://localhost:8080/"
        },
        "outputId": "42213244-763e-4fdc-e9a2-6110add6a8ba"
      },
      "execution_count": null,
      "outputs": [
        {
          "output_type": "stream",
          "name": "stdout",
          "text": [
            "One item from the tuple: 3\n"
          ]
        }
      ]
    },
    {
      "cell_type": "code",
      "source": [
        "# Adding elements\n",
        "original_tuple = (1, 2, 3, 4, 5)\n",
        "\n",
        "new_item = 6\n",
        "new_tuple = original_tuple + (new_item,)\n",
        "\n",
        "print(\"Original Tuple:\", original_tuple)\n",
        "print(\"New Tuple with added item:\", new_tuple)\n"
      ],
      "metadata": {
        "colab": {
          "base_uri": "https://localhost:8080/"
        },
        "id": "ZXO1S6Q-oilT",
        "outputId": "8931b81f-38d0-46fb-bf1e-e50cbd10de15"
      },
      "execution_count": null,
      "outputs": [
        {
          "metadata": {
            "tags": null
          },
          "name": "stdout",
          "output_type": "stream",
          "text": [
            "Original Tuple: (1, 2, 3, 4, 5)\n",
            "New Tuple with added item: (1, 2, 3, 4, 5, 6)\n"
          ]
        }
      ]
    },
    {
      "cell_type": "code",
      "source": [
        "# 4th element from firat and last\n",
        "my_tuple = (1, 2, 3, 4, 5, 6, 7, 8, 9, 10)\n",
        "\n",
        "fourth_element = my_tuple[3]\n",
        "\n",
        "fourth_from_last = my_tuple[-4]\n",
        "\n",
        "print(\"4th element:\", fourth_element)\n",
        "print(\"4th element from last:\", fourth_from_last)"
      ],
      "metadata": {
        "colab": {
          "base_uri": "https://localhost:8080/"
        },
        "id": "TKflYrtzo4B_",
        "outputId": "48d0418e-d238-4e24-eb50-a26df8843e50"
      },
      "execution_count": null,
      "outputs": [
        {
          "output_type": "stream",
          "name": "stdout",
          "text": [
            "4th element: 4\n",
            "4th element from last: 7\n"
          ]
        }
      ]
    },
    {
      "cell_type": "code",
      "source": [
        "#Counting repeated words\n",
        "from collections import Counter\n",
        "my_tuple = (1, 2, 2, 3, 4, 4, 4, 5)\n",
        "item_counts = Counter(my_tuple)\n",
        "repeated_items = [item for item, count in item_counts.items() if count > 1]\n",
        "print(\"Repeated items in the tuple:\", repeated_items)\n"
      ],
      "metadata": {
        "colab": {
          "base_uri": "https://localhost:8080/"
        },
        "id": "W6NyL-kvrrn7",
        "outputId": "92c6f758-a94d-4044-989a-7c188cd9cf77"
      },
      "execution_count": null,
      "outputs": [
        {
          "output_type": "stream",
          "name": "stdout",
          "text": [
            "Repeated items in the tuple: [2, 4]\n"
          ]
        }
      ]
    },
    {
      "cell_type": "code",
      "source": [
        "# check whether an element exists within a tuple\n",
        "my_tuple = (1, 2, 3, 4, 5)\n",
        "element_to_find = 3\n",
        "if element_to_find in my_tuple:\n",
        "    print(f\"{element_to_find} exists in the tuple.\")\n",
        "else:\n",
        "    print(f\"{element_to_find} does not exist in the tuple.\")\n"
      ],
      "metadata": {
        "colab": {
          "base_uri": "https://localhost:8080/"
        },
        "id": "Bo-bwurZs9g0",
        "outputId": "8ab576cd-d03c-4d21-9052-ad57dab2a271"
      },
      "execution_count": null,
      "outputs": [
        {
          "output_type": "stream",
          "name": "stdout",
          "text": [
            "3 exists in the tuple.\n"
          ]
        }
      ]
    },
    {
      "cell_type": "code",
      "source": [
        "#  convert a list to a tuple\n",
        "my_list = [1, 2, 3, 4, 5]\n",
        "\n",
        "my_tuple = tuple(my_list)\n",
        "\n",
        "print(\"Tuple from list:\", my_tuple)\n"
      ],
      "metadata": {
        "colab": {
          "base_uri": "https://localhost:8080/"
        },
        "id": "Z-HPgpzWs_nx",
        "outputId": "ec81f0f3-3f36-4ca9-9f6c-28c9b43bc0a5"
      },
      "execution_count": null,
      "outputs": [
        {
          "output_type": "stream",
          "name": "stdout",
          "text": [
            "Tuple from list: (1, 2, 3, 4, 5)\n"
          ]
        }
      ]
    },
    {
      "cell_type": "code",
      "source": [
        "#Remove elements from tuple\n",
        "my_tuple = (1, 2, 3, 4, 5)\n",
        "\n",
        "my_list = list(my_tuple)\n",
        "\n",
        "item_to_remove = 3\n",
        "\n",
        "if item_to_remove in my_list:\n",
        "    my_list.remove(item_to_remove)\n",
        "else:\n",
        "    print(f\"{item_to_remove} does not exist in the tuple.\")\n",
        "\n",
        "my_tuple = tuple(my_list)\n",
        "print(\"Updated tuple:\", my_tuple)\n"
      ],
      "metadata": {
        "colab": {
          "base_uri": "https://localhost:8080/"
        },
        "id": "0i2sFbwZuoKs",
        "outputId": "258a76e2-771e-490e-9bf7-10ec6a6d9fc6"
      },
      "execution_count": null,
      "outputs": [
        {
          "output_type": "stream",
          "name": "stdout",
          "text": [
            "Updated tuple: (1, 2, 4, 5)\n"
          ]
        }
      ]
    },
    {
      "cell_type": "code",
      "source": [
        "# Slicing\n",
        "my_tuple = (1, 2, 3, 4, 5, 6, 7, 8, 9, 10)\n",
        "slice1 = my_tuple[2:5]\n",
        "slice2 = my_tuple[:5]\n",
        "slice3 = my_tuple[5:]\n",
        "slice4 = my_tuple[::2]\n",
        "\n",
        "print(\"Slice 1:\", slice1)\n",
        "print(\"Slice 2:\", slice2)\n",
        "print(\"Slice 3:\", slice3)\n",
        "print(\"Slice 4:\", slice4)\n"
      ],
      "metadata": {
        "colab": {
          "base_uri": "https://localhost:8080/"
        },
        "id": "ss7jvRRdvm3q",
        "outputId": "59a5e98b-4e35-42f1-f345-da59fad7cfb5"
      },
      "execution_count": null,
      "outputs": [
        {
          "output_type": "stream",
          "name": "stdout",
          "text": [
            "Slice 1: (3, 4, 5)\n",
            "Slice 2: (1, 2, 3, 4, 5)\n",
            "Slice 3: (6, 7, 8, 9, 10)\n",
            "Slice 4: (1, 3, 5, 7, 9)\n"
          ]
        }
      ]
    },
    {
      "cell_type": "code",
      "source": [
        "# Index of an item\n",
        "my_tuple = (1, 2, 3, 4, 5, 6, 7, 8, 9, 10)\n",
        "item_to_find = 7\n",
        "try:\n",
        "    index = my_tuple.index(item_to_find)\n",
        "    print(f\"The index of {item_to_find} in the tuple is:\", index)\n",
        "except ValueError:\n",
        "    print(f\"{item_to_find} is not present in the tuple.\")\n",
        "\n"
      ],
      "metadata": {
        "colab": {
          "base_uri": "https://localhost:8080/"
        },
        "id": "CFE1a4ocwE6U",
        "outputId": "c98fd7b6-c7ce-4070-f2a7-0c5c93b2568b"
      },
      "execution_count": null,
      "outputs": [
        {
          "output_type": "stream",
          "name": "stdout",
          "text": [
            "The index of 7 in the tuple is: 6\n"
          ]
        }
      ]
    },
    {
      "cell_type": "code",
      "source": [
        "# Length of a tuple\n",
        "my_tuple = (1, 2, 3, 4, 5)\n",
        "tuple_length = len(my_tuple)\n",
        "print(\"Length of the tuple:\", tuple_length)\n"
      ],
      "metadata": {
        "colab": {
          "base_uri": "https://localhost:8080/"
        },
        "id": "A5-VJCOWw7Qp",
        "outputId": "b6961f53-9798-404a-cab2-fdc5b10fccdc"
      },
      "execution_count": null,
      "outputs": [
        {
          "output_type": "stream",
          "name": "stdout",
          "text": [
            "Length of the tuple: 5\n"
          ]
        }
      ]
    },
    {
      "cell_type": "code",
      "source": [
        "# Reverse a tuple\n",
        "my_tuple = (1, 2, 3, 4, 5)\n",
        "reversed_tuple = my_tuple[::-1]\n",
        "print(\"Reversed tuple:\", reversed_tuple)\n"
      ],
      "metadata": {
        "colab": {
          "base_uri": "https://localhost:8080/"
        },
        "id": "kZ4_UZe1xkU_",
        "outputId": "3a7b84a9-0278-46e7-bde9-7f172665fee5"
      },
      "execution_count": null,
      "outputs": [
        {
          "output_type": "stream",
          "name": "stdout",
          "text": [
            "Reversed tuple: (5, 4, 3, 2, 1)\n"
          ]
        }
      ]
    },
    {
      "cell_type": "code",
      "source": [
        "# Unpacking the tuple\n",
        "tuple1 = (11, 22, 333, 44, 55)\n",
        "var1, var2, var3, var4, var5 = tuple1\n",
        "print(var1)\n",
        "print(var2)\n",
        "print(var3)\n",
        "print(var4)\n",
        "print(var5)\n"
      ],
      "metadata": {
        "colab": {
          "base_uri": "https://localhost:8080/"
        },
        "id": "CIE9B8c9xw5C",
        "outputId": "19e62246-6b91-48be-a781-6b55913313ef"
      },
      "execution_count": null,
      "outputs": [
        {
          "output_type": "stream",
          "name": "stdout",
          "text": [
            "11\n",
            "22\n",
            "333\n",
            "44\n",
            "55\n"
          ]
        }
      ]
    },
    {
      "cell_type": "code",
      "source": [
        "# Copying the elements from tuple\n",
        "tuple1 = (11, 22, 333, 44, 55)\n",
        "new_tuple = (tuple1[0], tuple1[1], tuple1[3])\n",
        "print(\"New Tuple:\", new_tuple)\n"
      ],
      "metadata": {
        "colab": {
          "base_uri": "https://localhost:8080/"
        },
        "id": "pNMgjoAkyBUE",
        "outputId": "18c1c6fa-5732-414a-9773-fb530d15c7f5"
      },
      "execution_count": null,
      "outputs": [
        {
          "output_type": "stream",
          "name": "stdout",
          "text": [
            "New Tuple: (11, 22, 44)\n"
          ]
        }
      ]
    },
    {
      "cell_type": "code",
      "source": [
        "# Modify tuple\n",
        "t1 = (10, 20, 30, 40, 50)\n",
        "modified_tuple = t1[:2] + (33,) + t1[3:]\n",
        "print(\"Original Tuple:\", t1)\n",
        "print(\"Modify Tuple:\", modified_tuple)\n"
      ],
      "metadata": {
        "colab": {
          "base_uri": "https://localhost:8080/"
        },
        "id": "qNrTY2IXydH3",
        "outputId": "9fac9be8-c4f0-4040-be2d-c8b5e52db845"
      },
      "execution_count": null,
      "outputs": [
        {
          "output_type": "stream",
          "name": "stdout",
          "text": [
            "Original Tuple: (10, 20, 30, 40, 50)\n",
            "Modify Tuple: (10, 20, 33, 40, 50)\n"
          ]
        }
      ]
    },
    {
      "cell_type": "code",
      "source": [
        "# Concatenating tuples\n",
        "tup1 = (18, 23, 2, 9)\n",
        "tup2 = (10, 3, 11)\n",
        "nested_tup1 = (tup1,)\n",
        "nested_tup2 = (tup2,)\n",
        "print(f\"Tuple 1: {nested_tup1}\")\n",
        "print(f\"Tuple 2: {nested_tup2}\")\n",
        "concatenated_tuples = nested_tup1 + nested_tup2\n",
        "print(f\"Tuples after Concatenating: {concatenated_tuples}\")\n"
      ],
      "metadata": {
        "colab": {
          "base_uri": "https://localhost:8080/"
        },
        "id": "Ui5p2flozgtU",
        "outputId": "a239fc4a-bcc8-49ef-c770-1e3730c09eab"
      },
      "execution_count": null,
      "outputs": [
        {
          "output_type": "stream",
          "name": "stdout",
          "text": [
            "Tuple 1: ((18, 23, 2, 9),)\n",
            "Tuple 2: ((10, 3, 11),)\n",
            "Tuples after Concatenating: ((18, 23, 2, 9), (10, 3, 11))\n"
          ]
        }
      ]
    },
    {
      "cell_type": "code",
      "source": [
        "aTuple = (100, 200, 300, 400, 500)\n",
        "aTuple[1] = 800\n",
        "print(aTuple)\n"
      ],
      "metadata": {
        "colab": {
          "base_uri": "https://localhost:8080/",
          "height": 182
        },
        "id": "0mwlhrkuzo0d",
        "outputId": "5889a64c-e0fb-48ae-82b4-fc43982196e8"
      },
      "execution_count": null,
      "outputs": [
        {
          "output_type": "error",
          "ename": "TypeError",
          "evalue": "'tuple' object does not support item assignment",
          "traceback": [
            "\u001b[0;31m---------------------------------------------------------------------------\u001b[0m",
            "\u001b[0;31mTypeError\u001b[0m                                 Traceback (most recent call last)",
            "\u001b[0;32m<ipython-input-37-52583108ae81>\u001b[0m in \u001b[0;36m<cell line: 2>\u001b[0;34m()\u001b[0m\n\u001b[1;32m      1\u001b[0m \u001b[0maTuple\u001b[0m \u001b[0;34m=\u001b[0m \u001b[0;34m(\u001b[0m\u001b[0;36m100\u001b[0m\u001b[0;34m,\u001b[0m \u001b[0;36m200\u001b[0m\u001b[0;34m,\u001b[0m \u001b[0;36m300\u001b[0m\u001b[0;34m,\u001b[0m \u001b[0;36m400\u001b[0m\u001b[0;34m,\u001b[0m \u001b[0;36m500\u001b[0m\u001b[0;34m)\u001b[0m\u001b[0;34m\u001b[0m\u001b[0;34m\u001b[0m\u001b[0m\n\u001b[0;32m----> 2\u001b[0;31m \u001b[0maTuple\u001b[0m\u001b[0;34m[\u001b[0m\u001b[0;36m1\u001b[0m\u001b[0;34m]\u001b[0m \u001b[0;34m=\u001b[0m \u001b[0;36m800\u001b[0m\u001b[0;34m\u001b[0m\u001b[0;34m\u001b[0m\u001b[0m\n\u001b[0m\u001b[1;32m      3\u001b[0m \u001b[0mprint\u001b[0m\u001b[0;34m(\u001b[0m\u001b[0maTuple\u001b[0m\u001b[0;34m)\u001b[0m\u001b[0;34m\u001b[0m\u001b[0;34m\u001b[0m\u001b[0m\n",
            "\u001b[0;31mTypeError\u001b[0m: 'tuple' object does not support item assignment"
          ]
        }
      ]
    },
    {
      "cell_type": "code",
      "source": [
        "aTuple = (100, 200, 300, 400, 500)\n",
        "aTuple.pop(2)\n",
        "print(aTuple)"
      ],
      "metadata": {
        "colab": {
          "base_uri": "https://localhost:8080/",
          "height": 182
        },
        "id": "XN8rvDjcz5lc",
        "outputId": "18c1efd0-060a-4f69-b89c-14b3203d03d6"
      },
      "execution_count": null,
      "outputs": [
        {
          "output_type": "error",
          "ename": "AttributeError",
          "evalue": "'tuple' object has no attribute 'pop'",
          "traceback": [
            "\u001b[0;31m---------------------------------------------------------------------------\u001b[0m",
            "\u001b[0;31mAttributeError\u001b[0m                            Traceback (most recent call last)",
            "\u001b[0;32m<ipython-input-40-d76238f41f60>\u001b[0m in \u001b[0;36m<cell line: 2>\u001b[0;34m()\u001b[0m\n\u001b[1;32m      1\u001b[0m \u001b[0maTuple\u001b[0m \u001b[0;34m=\u001b[0m \u001b[0;34m(\u001b[0m\u001b[0;36m100\u001b[0m\u001b[0;34m,\u001b[0m \u001b[0;36m200\u001b[0m\u001b[0;34m,\u001b[0m \u001b[0;36m300\u001b[0m\u001b[0;34m,\u001b[0m \u001b[0;36m400\u001b[0m\u001b[0;34m,\u001b[0m \u001b[0;36m500\u001b[0m\u001b[0;34m)\u001b[0m\u001b[0;34m\u001b[0m\u001b[0;34m\u001b[0m\u001b[0m\n\u001b[0;32m----> 2\u001b[0;31m \u001b[0maTuple\u001b[0m\u001b[0;34m.\u001b[0m\u001b[0mpop\u001b[0m\u001b[0;34m(\u001b[0m\u001b[0;36m2\u001b[0m\u001b[0;34m)\u001b[0m\u001b[0;34m\u001b[0m\u001b[0;34m\u001b[0m\u001b[0m\n\u001b[0m\u001b[1;32m      3\u001b[0m \u001b[0mprint\u001b[0m\u001b[0;34m(\u001b[0m\u001b[0maTuple\u001b[0m\u001b[0;34m)\u001b[0m\u001b[0;34m\u001b[0m\u001b[0;34m\u001b[0m\u001b[0m\n",
            "\u001b[0;31mAttributeError\u001b[0m: 'tuple' object has no attribute 'pop'"
          ]
        }
      ]
    },
    {
      "cell_type": "code",
      "source": [
        "# Set datatype Add a list of elements to a set\n",
        "sample_set = {\"Yellow\", \"Orange\", \"Black\"}\n",
        "sample_list = [\"Blue\", \"Green\", \"Red\"]\n",
        "sample_set.update(sample_list)\n",
        "print(sample_set)\n"
      ],
      "metadata": {
        "colab": {
          "base_uri": "https://localhost:8080/"
        },
        "id": "Ve9j-X-90Cot",
        "outputId": "20fde8ef-ecb9-4a2d-d471-5fbc100f224d"
      },
      "execution_count": null,
      "outputs": [
        {
          "output_type": "stream",
          "name": "stdout",
          "text": [
            "{'Yellow', 'Black', 'Orange', 'Red', 'Green', 'Blue'}\n"
          ]
        }
      ]
    },
    {
      "cell_type": "code",
      "source": [
        "# Return a new set of identical items from two sets\n",
        "set1 = {10, 20, 30, 40, 50}\n",
        "set2 = {30, 40, 50, 60, 70}\n",
        "intersection_set = set1 & set2\n",
        "print(intersection_set)\n"
      ],
      "metadata": {
        "colab": {
          "base_uri": "https://localhost:8080/"
        },
        "id": "IWbscdn71VQn",
        "outputId": "21d11708-a127-4af3-a25a-08104b1f1492"
      },
      "execution_count": null,
      "outputs": [
        {
          "output_type": "stream",
          "name": "stdout",
          "text": [
            "{40, 50, 30}\n"
          ]
        }
      ]
    },
    {
      "cell_type": "code",
      "source": [
        "#Only unique items from two sets\n",
        "set1 = {10, 20, 30, 40, 50}\n",
        "set2 = {30, 40, 50, 60, 70}\n",
        "\n",
        "unique_items_set = set1.union(set2)\n",
        "\n",
        "print(unique_items_set)\n"
      ],
      "metadata": {
        "colab": {
          "base_uri": "https://localhost:8080/"
        },
        "id": "C3llDaYi1fWf",
        "outputId": "8f246287-ee75-4bb8-b050-c67366aca805"
      },
      "execution_count": null,
      "outputs": [
        {
          "output_type": "stream",
          "name": "stdout",
          "text": [
            "{70, 40, 10, 50, 20, 60, 30}\n"
          ]
        }
      ]
    },
    {
      "cell_type": "code",
      "source": [
        "# Update the first set with items that do not exist in the second set\n",
        "set1 = {10, 20, 30}\n",
        "set2 = {20, 40, 50}\n",
        "set1.difference_update(set2)\n",
        "print(\"set1:\", set1)\n"
      ],
      "metadata": {
        "colab": {
          "base_uri": "https://localhost:8080/"
        },
        "id": "Lrb79z2u2KCJ",
        "outputId": "871c61b0-2515-4e66-88d2-c33e31251fe2"
      },
      "execution_count": null,
      "outputs": [
        {
          "output_type": "stream",
          "name": "stdout",
          "text": [
            "set1: {10, 30}\n"
          ]
        }
      ]
    },
    {
      "cell_type": "code",
      "source": [
        "# Remove items from the set at once\n",
        "set1 = {10, 20, 30, 40, 50}\n",
        "\n",
        "items_to_remove = {10, 20, 30}\n",
        "\n",
        "set1.difference_update(items_to_remove)\n",
        "\n",
        "print(set1)\n"
      ],
      "metadata": {
        "colab": {
          "base_uri": "https://localhost:8080/"
        },
        "id": "mimIlU7z2kbF",
        "outputId": "643a8420-a60c-428f-effa-f654b97ac1a0"
      },
      "execution_count": null,
      "outputs": [
        {
          "output_type": "stream",
          "name": "stdout",
          "text": [
            "{50, 40}\n"
          ]
        }
      ]
    },
    {
      "cell_type": "code",
      "source": [
        "# Return a set of elements present in Set A or B, but not both\n",
        "set1 = {10, 20, 30, 40, 50}\n",
        "set2 = {30, 40, 50, 60, 70}\n",
        "\n",
        "result_set = set1 ^ set2\n",
        "\n",
        "print(result_set)\n"
      ],
      "metadata": {
        "colab": {
          "base_uri": "https://localhost:8080/"
        },
        "id": "kbAh_Vtg20bj",
        "outputId": "90cdb3e2-47c9-4b3c-c041-cd3ab26b1d34"
      },
      "execution_count": null,
      "outputs": [
        {
          "output_type": "stream",
          "name": "stdout",
          "text": [
            "{20, 70, 10, 60}\n"
          ]
        }
      ]
    },
    {
      "cell_type": "code",
      "source": [
        "#  sets have any elements in common\n",
        "set1 = {10, 20, 30, 40, 50}\n",
        "set2 = {60, 70, 80, 90, 10}\n",
        "\n",
        "common_elements = set1.intersection(set2)\n",
        "\n",
        "if common_elements:\n",
        "    print(f\"Two sets have items in common {common_elements}\")\n",
        "else:\n",
        "    print(\"No common items found\")\n"
      ],
      "metadata": {
        "colab": {
          "base_uri": "https://localhost:8080/"
        },
        "id": "z9q1Oxuy3T54",
        "outputId": "e98d0238-3f93-480f-91d6-641c1026008c"
      },
      "execution_count": null,
      "outputs": [
        {
          "output_type": "stream",
          "name": "stdout",
          "text": [
            "Two sets have items in common {10}\n"
          ]
        }
      ]
    },
    {
      "cell_type": "code",
      "source": [
        "# Update set1 by adding items from set2, except common items\n",
        "set1 = {10, 20, 30, 40, 50}\n",
        "set2 = {30, 40, 50, 60, 70}\n",
        "\n",
        "updated_set1 = set1.union(set2 - set1)\n",
        "\n",
        "print(updated_set1)\n"
      ],
      "metadata": {
        "colab": {
          "base_uri": "https://localhost:8080/"
        },
        "id": "3Hz8IYiE35cT",
        "outputId": "215ae50c-8745-4732-a67c-83cefbb36c49"
      },
      "execution_count": null,
      "outputs": [
        {
          "output_type": "stream",
          "name": "stdout",
          "text": [
            "{50, 20, 70, 40, 10, 60, 30}\n"
          ]
        }
      ]
    },
    {
      "cell_type": "code",
      "source": [
        "# Remove items from set1 that are not common to both set1 and set2\n",
        "set1 = {10, 20, 30, 40, 50}\n",
        "set2 = {30, 40, 50, 60, 70}\n",
        "common_elements = set1.intersection(set2)\n",
        "set1.intersection_update(set2)\n",
        "print(set1)\n"
      ],
      "metadata": {
        "colab": {
          "base_uri": "https://localhost:8080/"
        },
        "id": "PeL-fhee4Q11",
        "outputId": "6d8f76fd-d5b2-436a-b6eb-c524b397f5c1"
      },
      "execution_count": null,
      "outputs": [
        {
          "output_type": "stream",
          "name": "stdout",
          "text": [
            "{40, 50, 30}\n"
          ]
        }
      ]
    },
    {
      "cell_type": "code",
      "source": [
        "# Create a set\n",
        "my_set = {1, 2, 3, 4, 5}\n",
        "\n",
        "print(my_set)\n"
      ],
      "metadata": {
        "colab": {
          "base_uri": "https://localhost:8080/"
        },
        "id": "fuHVBg784yAN",
        "outputId": "6052008e-38a3-4b77-dead-c213accf65ec"
      },
      "execution_count": null,
      "outputs": [
        {
          "output_type": "stream",
          "name": "stdout",
          "text": [
            "{1, 2, 3, 4, 5}\n"
          ]
        }
      ]
    },
    {
      "cell_type": "code",
      "source": [
        "# Add members\n",
        "my_set = {1, 2, 3, 4, 5}\n",
        "\n",
        "my_set.add(6)\n",
        "\n",
        "print(my_set)\n"
      ],
      "metadata": {
        "colab": {
          "base_uri": "https://localhost:8080/"
        },
        "id": "nGg3UyAM5EXb",
        "outputId": "8b57ecef-4597-40f3-fa30-16350625c346"
      },
      "execution_count": null,
      "outputs": [
        {
          "output_type": "stream",
          "name": "stdout",
          "text": [
            "{1, 2, 3, 4, 5, 6}\n"
          ]
        }
      ]
    },
    {
      "cell_type": "code",
      "source": [
        "# Removing items\n",
        "my_set = {1, 2, 3, 4, 5}\n",
        "\n",
        "my_set.remove(3)\n",
        "\n",
        "print(my_set)\n"
      ],
      "metadata": {
        "colab": {
          "base_uri": "https://localhost:8080/"
        },
        "id": "3ZcL8Zzk5YNP",
        "outputId": "87ff265c-a484-4a6a-b7fb-7e663fe4d43d"
      },
      "execution_count": null,
      "outputs": [
        {
          "output_type": "stream",
          "name": "stdout",
          "text": [
            "{1, 2, 4, 5}\n"
          ]
        }
      ]
    },
    {
      "cell_type": "code",
      "source": [
        "# Intersection of sets\n",
        "a = {30, 40, 70, 20}\n",
        "b = {20, 50, 60, 40}\n",
        "\n",
        "intersection_set = a.intersection(b)\n",
        "\n",
        "print(\"Intersection of two Sets:\")\n",
        "print(intersection_set)\n"
      ],
      "metadata": {
        "colab": {
          "base_uri": "https://localhost:8080/"
        },
        "id": "3__3okOH5mfa",
        "outputId": "c95995e7-1ea7-47c4-f3f0-6477c1ca222d"
      },
      "execution_count": null,
      "outputs": [
        {
          "output_type": "stream",
          "name": "stdout",
          "text": [
            "Intersection of two Sets:\n",
            "{40, 20}\n"
          ]
        }
      ]
    },
    {
      "cell_type": "code",
      "source": [
        "# Union of sets\n",
        "a = {30, 40, 70, 20}\n",
        "b = {20, 50, 60, 40}\n",
        "\n",
        "union_set = a.union(b)\n",
        "\n",
        "print(\"Union of two Sets:\", union_set)\n"
      ],
      "metadata": {
        "colab": {
          "base_uri": "https://localhost:8080/"
        },
        "id": "vf8kcxQP55Q3",
        "outputId": "0d74b4e7-659c-42a5-80d1-c2ec81454d67"
      },
      "execution_count": null,
      "outputs": [
        {
          "output_type": "stream",
          "name": "stdout",
          "text": [
            "Union of two Sets: {70, 40, 50, 20, 60, 30}\n"
          ]
        }
      ]
    },
    {
      "cell_type": "code",
      "source": [
        "# set Difference\n",
        "a = {30, 40, 70, 20, 80, 50}\n",
        "b = {20, 50, 60, 40, 90, 10}\n",
        "\n",
        "difference_ab = a.difference(b)\n",
        "\n",
        "print(\"Difference of a - b:\", difference_ab)\n"
      ],
      "metadata": {
        "colab": {
          "base_uri": "https://localhost:8080/"
        },
        "id": "h3o0UFZe6GN8",
        "outputId": "247952f1-46d8-4d5f-da83-27f30469b6bd"
      },
      "execution_count": null,
      "outputs": [
        {
          "output_type": "stream",
          "name": "stdout",
          "text": [
            "Difference of a - b: {80, 70, 30}\n"
          ]
        }
      ]
    },
    {
      "cell_type": "code",
      "source": [
        "# Symmetric Difference\n",
        "a = {30, 40, 70, 20, 80, 50}\n",
        "b = {20, 50, 60, 40, 90, 10}\n",
        "\n",
        "symmetric_difference_ab = a.symmetric_difference(b) #a ^ b\n",
        "\n",
        "print(\"Symmetric Difference of a and b:\", symmetric_difference_ab)\n"
      ],
      "metadata": {
        "colab": {
          "base_uri": "https://localhost:8080/"
        },
        "id": "jydSO9UL6qSN",
        "outputId": "71beef09-4e38-4027-ce4e-314734586ea7"
      },
      "execution_count": null,
      "outputs": [
        {
          "output_type": "stream",
          "name": "stdout",
          "text": [
            "Symmetric Difference of a and b: {70, 10, 80, 90, 60, 30}\n"
          ]
        }
      ]
    },
    {
      "cell_type": "code",
      "source": [
        "# Find the elements in a given set that are not in another set\n",
        "#Method 1\n",
        "X = {50, 20, 70, 40, 10, 60, 30}\n",
        "Y = {80, 50, 100, 70, 90, 60}\n",
        "\n",
        "difference_XY = X.difference(Y)\n",
        "difference_YX = Y.difference(X)\n",
        "\n",
        "print(\"Difference of X and Y:\", difference_XY)\n",
        "print(\"Difference of Y and X:\", difference_YX)\n"
      ],
      "metadata": {
        "colab": {
          "base_uri": "https://localhost:8080/"
        },
        "id": "d1YCuRVz68ln",
        "outputId": "b2ff2e68-7aa7-4238-87d6-2bb54b193feb"
      },
      "execution_count": null,
      "outputs": [
        {
          "output_type": "stream",
          "name": "stdout",
          "text": [
            "Difference of X and Y: {40, 10, 20, 30}\n",
            "Difference of Y and X: {80, 90, 100}\n"
          ]
        }
      ]
    },
    {
      "cell_type": "code",
      "source": [
        "#Method 2\n",
        "X = {50, 20, 70, 40, 10, 60, 30}\n",
        "Y = {80, 50, 100, 70, 90, 60}\n",
        "\n",
        "difference_XY = X - Y\n",
        "difference_YX = Y - X\n",
        "\n",
        "print(\"Difference of X and Y:\", difference_XY)\n",
        "print(\"Difference of Y and X:\", difference_YX)\n"
      ],
      "metadata": {
        "colab": {
          "base_uri": "https://localhost:8080/"
        },
        "id": "2rOTRO4_7dtH",
        "outputId": "1576fc91-ee17-49a9-e023-d5add784eb3f"
      },
      "execution_count": null,
      "outputs": [
        {
          "output_type": "stream",
          "name": "stdout",
          "text": [
            "Difference of X and Y: {40, 10, 20, 30}\n",
            "Difference of Y and X: {80, 90, 100}\n"
          ]
        }
      ]
    },
    {
      "cell_type": "code",
      "source": [
        "# check if two given sets have no elements in common\n",
        "a = {23, 45, 78, 8, 56}\n",
        "b = {42, 55, 26, 87}\n",
        "z = {87, 46}\n",
        "\n",
        "compare_ab = a.isdisjoint(b)\n",
        "compare_bz = b.isdisjoint(z)\n",
        "compare_az = a.isdisjoint(z)\n",
        "\n",
        "print(\"Two given sets have no Elements in Common:\")\n",
        "print(\"Compare A and B:\", compare_ab)\n",
        "print(\"Compare B and Z:\", compare_bz)\n",
        "print(\"Compare A and Z:\", compare_az)\n"
      ],
      "metadata": {
        "colab": {
          "base_uri": "https://localhost:8080/"
        },
        "id": "tVT9h2cn7oUo",
        "outputId": "0e00bbaa-6efe-405b-a5e9-de1736aaadee"
      },
      "execution_count": null,
      "outputs": [
        {
          "output_type": "stream",
          "name": "stdout",
          "text": [
            "Two given sets have no Elements in Common:\n",
            "Compare A and B: True\n",
            "Compare B and Z: False\n",
            "Compare A and Z: True\n"
          ]
        }
      ]
    },
    {
      "cell_type": "code",
      "source": [
        "# Min and Max\n",
        "a = {23, 45, 17, 8, 56, 10}\n",
        "\n",
        "sorted_list = sorted(a)\n",
        "\n",
        "print(\"Set A:\", sorted_list)\n",
        "\n",
        "print(\"Maximum of A:\", sorted_list[-1])\n",
        "print(\"Minimum of A:\", sorted_list[0])\n"
      ],
      "metadata": {
        "colab": {
          "base_uri": "https://localhost:8080/"
        },
        "id": "N6Z4sOWP8F31",
        "outputId": "d8f82094-fd6e-4022-dbad-d44fc82e7051"
      },
      "execution_count": null,
      "outputs": [
        {
          "output_type": "stream",
          "name": "stdout",
          "text": [
            "Set A: [8, 10, 17, 23, 45, 56]\n",
            "Maximum of A: 56\n",
            "Minimum of A: 8\n"
          ]
        }
      ]
    },
    {
      "cell_type": "code",
      "source": [
        "# Remove all elements\n",
        "color = {\"Red\", \"Green\", \"Pink\", \"White\", \"Black\", \"Yellow\", \"Blue\"}\n",
        "\n",
        "color.clear()\n",
        "\n",
        "print(\"After Remove all Elements give Sets:\", color)\n"
      ],
      "metadata": {
        "colab": {
          "base_uri": "https://localhost:8080/"
        },
        "id": "wSFIY7f18gSw",
        "outputId": "d32d7633-3e64-4c74-dd73-91719a02371b"
      },
      "execution_count": null,
      "outputs": [
        {
          "output_type": "stream",
          "name": "stdout",
          "text": [
            "After Remove all Elements give Sets: set()\n"
          ]
        }
      ]
    },
    {
      "cell_type": "code",
      "source": [],
      "metadata": {
        "id": "uc4qSFqx8v2-"
      },
      "execution_count": null,
      "outputs": []
    }
  ]
}